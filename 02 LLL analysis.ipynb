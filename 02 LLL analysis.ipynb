{
 "cells": [
  {
   "cell_type": "code",
   "execution_count": 3,
   "metadata": {},
   "outputs": [],
   "source": [
    "# returns matrix mu and list of squared euclidean norms\n",
    "#   of the vectors in Gram-Schmidt orthogonalized basis\n",
    "#   (Cholesky decomposition avoiding use of irrationals)\n",
    "# G ... Gram matrix to be decomposed\n",
    "def chol_decomp(G, cols=-1):\n",
    "    rows = G.nrows()\n",
    "    if cols < 0:\n",
    "        cols = rows\n",
    "    mu = matrix(QQ, rows, cols)\n",
    "    squares = vector(QQ, cols)\n",
    "    for y in range(rows):\n",
    "        over_cols = (y>=cols)\n",
    "        for x in range(cols if over_cols else y):\n",
    "            t = 0\n",
    "            for i in range(x):\n",
    "                t += mu[y,i]*mu[x,i]*squares[i]\n",
    "            mu[y,x] = (G[y,x]-t)/squares[x]\n",
    "        if not over_cols:\n",
    "            t = 0\n",
    "            for i in range(y):\n",
    "                t += mu[y,i]*mu[y,i]*squares[i]\n",
    "            mu[y,y] = 1\n",
    "            squares[y] = G[y,y]-t\n",
    "    return (mu, squares)\n",
    "\n",
    "# auxiliary function: swaps i-th row with the previous one\n",
    "def swap_rows_in_mu(mu, B, i, n):\n",
    "    mu[i-1], mu[i] = mu[i], mu[i-1]\n",
    "    mu[i,i], mu[i-1,i] = 1, 0\n",
    "    r = mu[i-1,i-1]\n",
    "    mu[i-1,i-1] = 1\n",
    "    temp = B[i-1]*r**2 + B[i]\n",
    "    mu[i,i-1] = r*B[i-1]/temp\n",
    "    B[i] = B[i-1]*B[i]/temp\n",
    "    B[i-1] = temp\n",
    "    for j in range(i+1, n):\n",
    "        mu[j,i-1], mu[j,i] = mu[i,i-1]*mu[j,i-1]+mu[j,i]*(1-r*mu[i,i-1]), \\\n",
    "                           mu[j,i-1]-r*mu[j,i]\n",
    "\n",
    "# auxiliary function: the inner cycle of LLL\n",
    "def LLL_reduce_row(b, mu, i, h):\n",
    "    for j in range(h-1, -1, -1):\n",
    "        t = round(mu[i, j])\n",
    "        for k in range(j+1):\n",
    "            mu[i, k] -= t*mu[j, k]\n",
    "        b[i] -= t*b[j]\n",
    "\n",
    "# auxiliary function: LLL reduction algorithm\n",
    "# b ... integer basis (does'n have to be square matrix)\n",
    "# mu ... Gram-Schmidt mu matrix (doesn't have to be square matrix)\n",
    "# B ... squared norms of Gram-Schmidt orthogonalized vectors\n",
    "# n ... number of rows of b to be reduced (usually b.nrows())\n",
    "# h ... index of first row not to be swapped (only reduced)\n",
    "def LLL_aux(b, delta, mu, B, n, h):\n",
    "    i = 1\n",
    "    flag = True\n",
    "    swapscount = 0\n",
    "    while i < h:\n",
    "        if flag:\n",
    "            LLL_reduce_row(b, mu, i, i)\n",
    "        if i > 0 and (delta-mu[i,i-1]**2)*B[i-1] > B[i]:\n",
    "            b[i], b[i-1] = b[i-1], b[i]\n",
    "            swap_rows_in_mu(mu, B, i, n)\n",
    "            print(\"S\", end=\"\")\n",
    "            swapscount += 1\n",
    "            i -= 1\n",
    "            flag = False\n",
    "        else:\n",
    "            i += 1\n",
    "            flag = True\n",
    "            print(\".\",end=\"\")\n",
    "    while i < n:  # performed only if n>h\n",
    "        LLL_reduce_row(b, mu, i, h)\n",
    "        i += 1\n",
    "    return b, mu, B, swapscount\n",
    "\n",
    "# classical LLL algorithm\n",
    "# last row of b can be used as a target point in Babai's algorithm\n",
    "def LLL_own(b, delta=3/4, babai_bool=False):\n",
    "    mu, B = chol_decomp(b*b.transpose(), b.nrows()-babai_bool)\n",
    "    LLL = LLL_aux(copy(b), delta, mu, B, b.nrows(), b.nrows()-babai_bool)\n",
    "    print(\" swaps: \",LLL[3])\n",
    "    return LLL[0]\n",
    "\n",
    "# LLL for triangular input basis\n",
    "def LLL_triangular_input(b, delta=3/4, babai_bool=False):\n",
    "    B = vector(QQ, [b[j,j]**2 for j in range(b.ncols())])\n",
    "    mu = matrix(QQ, b)\n",
    "    for j in range(mu.ncols()):\n",
    "        r = mu[j,j]\n",
    "        for i in range(j, mu.nrows()):\n",
    "            mu[i,j] /= r\n",
    "    return LLL_aux(copy(b), delta, mu, B, b.nrows(), b.nrows()-babai_bool)[0]\n"
   ]
  },
  {
   "cell_type": "code",
   "execution_count": 4,
   "metadata": {},
   "outputs": [],
   "source": [
    "from random import randint, seed\n",
    "\n",
    "def randomMatrix(dimension, perimeter):\n",
    "    list = [randint(-perimeter, perimeter) for _ in range(dimension**2)]\n",
    "    return matrix(ZZ, dimension, dimension, list)\n"
   ]
  },
  {
   "cell_type": "code",
   "execution_count": 13,
   "metadata": {},
   "outputs": [
    {
     "name": "stdout",
     "output_type": "stream",
     "text": [
      "S..S..SSS....SSS......SSSS.......SSSSS..S.....SS...SSSSSSSSSSSS....S..........SSSSSSSSSSSS...SS...S......SSS.......SSSS.....SSS....S..SSSSS..S.....SSS....SSSSSSSSSSSSSSSS.................SSSSSSSSSSSSSSS....S.............SSSSSSSSSSSSSSS.............SS......S..S..SSSSSSSSSSSSSSS................SSSSSSSSSSSSSSSSSS.....SS..S...S.............SSSSSSSSSSSSSSSSSSS............SS..........SSSSSSSS.........SSS....SSS....SSSSSSSSSSSSSSSSSSSSSSS.............S............SSSSSSSSS.....S.....S..SSSSSS...SS......SSSSSSSSSSSS.............SSSSSSSSSSSS.............SSS....SSSSSSSSSSS...S..S.........SSSSSSSSSSSS...SS...S..........SSS....SSSSSSSSSSSSSSSSSSSSSSSSSSSSSSSSSSSS..S........S........SSSSSSSS............SSSSSSSSSSS...SS...SS..................SS..........SSSSSSSSSSSSSSS............SSSSSSS.........S...SSS....SSSSS......SSSS...S...SSSSSSSSSS...........SSSSSSSSSSSS..S...SSS....SS...SS...SSS....SSS......S...S..SSSSSSSSSSSSSSSSSSSSSSSSSSSSSSSSSSSSSS...........SS................SS...SS...SS..............SSSSSSSSSSSSSSSSSSSSSSSSSSSSSSSSSS....S........SSS.......SSSSSS......SSSSS....SSS.......S.......SSS....S..S..........SSSSSSSS.........SSSSSSSSSSSSSSSS.........S.........SSSSSSSS...S.......SSSSSSSSSSSSSSSSSSSSSSSSSSSS.........S...S....SS.....SS..S..S..S..S..S..SSS....S.....SSS.....SSSSSSSSSSSSSSSSSSSSSS...........SS..............S..SSSSSSSSSSSSSSSSSSSSSSSSSSSSSSSSSSSSSSSSSSSS........S...S...S..SSSS...SS....SSSSSSSSSSSSS....S...........S..S...S..S..S..S..S...S...S..SSSS....................S...SSSSSSSSSSSSSSSSSSSSSSSSSSSSSSSSSSSSS..S.....S.....SSSS..S............S..S..S..S..SS...SS...SS...S......SSSS..S..SS.....S..S.....SSSSSSSSSS........S....SSSSSSSSSSSSS..............SSSSSS....S...S..SSSSSSS...SS....S....SSSSSSSSSSSSSSSSSSSSSSSSSSSSSSSSSSSSSSSSSS...............S.....S..S..S..S..S..S..S...S...........SSSSSSSSSSS..........SSSS.....SSSS....S..SSSSS.....S..SSS.......SSSSSSSS...SS........SSSSSS...S....S..SSSSSSSSSSSSSSSSSSSSSSS...SS...............S.........SSS..S...SSSSSSSSSS..S.........SS...SSSSSSSSSS...........SSSSSSSSSSSSSSSSSSSSSSSSSSSSSSSSSSSSSSSSSSSSSSSSSSSSSSSSSSSSSSS.........S......S..SS.........S....S............S..S......................S..S.....SSSS.....SSSSSSSSSS......S..SSS...S.....SSSSSSSSSSSSSSSSSSSSSSSSSSSSSSSSSSSSSSSSSSSSSSSS...SS.....S..S........S....SSSSSSSS..S........SSSSSSSS........S..........S........S..S..S..S..S............SSSSSSSSSSSSSSSSSSSSSSS.....S.............S....SS...SSS.....SS..S..SSSSSSSSSSSSSSSSSSSSSSSSSSSSSSSSSSSSSSSSSSSSSSSS...SS...SS...S...SS...SS...SS.......SS...........S....S....S..S.....SSSS.....SSSS...S..S...S.....SSSSSSSSS..S..S..S..SS...S....S.........SSSSSSSSSSSSSSSSSSSSSSSSSSSSSSSSSSSSSSSSSSSSSSSSSSSSSSSSSS..........S..............S.....S.......SSS...SS...SSS....SS...S...SS..S...SS...SS..........S..SSSS.........S.....SSSSSSSSSSSSS....S...S.........SSSSSSSSSSSSSSSSSSSSSSSSSSSSSS....S..S..S..S..SSSSSS.......SS................S...S....SS..S..SS....SSSSSSSSSSSSSSSSSSSSS..S............S..........SSSSSSSSSSSSSSSSSSSSSSSSSSSSSSSSSSSSSSSSSSSSSSSSSSSSSSSSSSSSS...............SS.......SS...S........S..S..S.....SSSS....SS..S.....................S...SSSS......S.....SSSSSSSSSS...SS..S.....S..SS....S...SSSSSSSSSSSSSSSSSSSSSSSSSSSSSSSSSSSSSSSSSSSSSSSSSSSSSSSSSSSSSSSSSSSSSSSSSSSS.............SSSS......S...............SS...SS...S......................S..S........SSSSSSSSSSSSSSSS............SS..S..........SSS....SS...SS............SSSSSSS........SSSSSSS......S..SS...SSSSSS.....S..SS...SSSSSSSSSSSSSSSSSSSSSSSSSSSSSSSSSSS..S................SSSSSSSSSSSSSSS.........SS...S.......SSSSSSSSSSSSSS..........SSS........SS...S..S..........S....SS.....SSSSSSSSSSSSSSS..S..S....S..S..S..S..SS........SSSSSSSSSSSSSSSSSSSSSSSSSSSSSSSSSSSSSSSSSSSSSSSSSSSSSSSSSSSSSSSSSSSS........SS.......SS...SSS......S................................SSSSSSS......S..SS...SSSSSSS.....SS......S..SSS..S..S..S.........SSSSSSS..S......SSS..S..SS...SSSSS..S..S....S..S......S..SSSSSSSSSSSSSSSSSSSSSSSSSSSSSSSSSSSSSSS......SS........SS..S..................SSS..S......SS.....S..SSS......SSSS...SS....SSSSSSSSSSSSSSSSSSSSSSSSSSSSS....S..S..S..S..S..S.....SS...S..S................SSSSSSSSSSSSSSSSSSSSSSSSSSSSSSSSS..S..S..SSSS..........S.....S..S......S...SSS....SSSSSSSSS..S......S........SSS..S........SSSSSSSSSSS.......SSS........SSSSSSS.....SSS..S.....SS...SSSSSSSSSSSSSSSSSS....S..SSSSSSSS.........S.....SSSS...S..S..S..S..SSSSS...S..S...S..S.....SSSSSSSSSSSSSSSSSSSSS...SS...SS...SSSS..S....SSSSS.......SSSSSSS..S......SSS...S..SSSSSSS...SS.......SSS....S..SSS..S...S..SSS....SSS.....SSSSSSSSSSSS...S..S.....SSS...S...S.....S..SS...SSS...S..SSSSS......SSSSSSSSSSSSSS..S..S..S..S..SSSS..S....S..S...S...S..SS...SS... swaps:  2273\n"
     ]
    },
    {
     "data": {
      "text/plain": [
       "100 x 100 dense matrix over Integer Ring (use the '.str()' method to see the entries)"
      ]
     },
     "execution_count": 13,
     "metadata": {},
     "output_type": "execute_result"
    }
   ],
   "source": [
    "LLL_own(randomMatrix(100, 1000),delta=0.99)"
   ]
  },
  {
   "cell_type": "code",
   "execution_count": null,
   "metadata": {},
   "outputs": [],
   "source": []
  },
  {
   "cell_type": "code",
   "execution_count": null,
   "metadata": {},
   "outputs": [],
   "source": []
  }
 ],
 "metadata": {
  "kernelspec": {
   "display_name": "SageMath 9.0",
   "language": "sage",
   "name": "sagemath"
  },
  "language_info": {
   "codemirror_mode": {
    "name": "ipython",
    "version": 3
   },
   "file_extension": ".py",
   "mimetype": "text/x-python",
   "name": "python",
   "nbconvert_exporter": "python",
   "pygments_lexer": "ipython3",
   "version": "3.8.10"
  }
 },
 "nbformat": 4,
 "nbformat_minor": 2
}
