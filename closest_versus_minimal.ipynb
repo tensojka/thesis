{
 "cells": [
  {
   "cell_type": "code",
   "execution_count": 1,
   "id": "bd75ba9b",
   "metadata": {},
   "outputs": [],
   "source": [
    "%run generate_new_examples.ipynb     # importing functions"
   ]
  },
  {
   "cell_type": "code",
   "execution_count": 75,
   "id": "1946b9f1",
   "metadata": {},
   "outputs": [
    {
     "data": {
      "text/plain": [
       "<generator object closest_versus_grammatrix at 0x7fb26ac66270>"
      ]
     },
     "execution_count": 75,
     "metadata": {},
     "output_type": "execute_result"
    }
   ],
   "source": [
    "### closest_versus_minimal\n",
    "\n",
    "jsonfilename = \"matrices3x3-600instances.json\"\n",
    "\n",
    "def closest_versus_grammatrix():\n",
    "    cases = from_json(jsonfilename)\n",
    "    for case in cases:\n",
    "        closest = closest_point_in_cube(case[\"lincomb_cube\"], case[\"lincomb_LLL\"])\n",
    "        yield matrix_multiplication_detailed[0]\n",
    "        \n",
    "closest_versus_grammatrix()"
   ]
  },
  {
   "cell_type": "code",
   "execution_count": 73,
   "id": "1a3a8666",
   "metadata": {
    "scrolled": false
   },
   "outputs": [
    {
     "data": {
      "text/plain": [
       "[148, 527]"
      ]
     },
     "execution_count": 73,
     "metadata": {},
     "output_type": "execute_result"
    }
   ],
   "source": [
    "### closest_versus_minimal\n",
    "\n",
    "jsonfilename = \"matrices3x3-600instances.json\"\n",
    "\n",
    "def wholify_floatInListAtGivenIndex(array, index):\n",
    "    for _ in range(len(array)):\n",
    "        curr = array.pop(0)\n",
    "        curr[index] = math.floor(curr[index])\n",
    "        array.append([i for i in curr]) # how to create two branches of code\n",
    "        curr[index] = curr[index] + 1\n",
    "        array.append([i for i in curr])\n",
    "    return array\n",
    "\n",
    "def cube_points(lincomb_cube) -> list:\n",
    "    \"\"\"\n",
    "    Returns a list of linear combinations/vertices of the cube.\n",
    "    \"\"\"\n",
    "    res = [lincomb_cube]\n",
    "    for index in range((len(lincomb_cube))):\n",
    "        if res[0][index] % 1 != 0: \n",
    "            wholify_floatInListAtGivenIndex(res, index) \n",
    "        else:  # to get rid of the floating zero\n",
    "            for _ in range(len(res)): # copypaste code, Ill think about it later\n",
    "                curr = res.pop(0)\n",
    "                curr[index] =int(curr[index])\n",
    "                res.append([i for i in curr])\n",
    "    return res\n",
    "    \n",
    "def evaluate_norms_at_cube(lincomb_cube, B):\n",
    "    vertices = cube_points(lincomb_cube)\n",
    "    result = []\n",
    "    for vertice in vertices:\n",
    "        result.append([(matrix(vertice) * matrix(B)).norm().n(), vertice])\n",
    "    return result, sorted(result)[1]\n",
    "    \n",
    "def closest_point_in_cube(lincomb_cube, lincomb_LLL) -> list:\n",
    "    \"\"\"\n",
    "    Returns the vertice of the cube closest to the lincomb given by LLL.\n",
    "    \"\"\"\n",
    "    for i in range(len(lincomb_cube)):\n",
    "        if lincomb_LLL[i] > lincomb_cube[i]:\n",
    "            lincomb_cube[i] = math.ceil(lincomb_cube[i])\n",
    "        else:\n",
    "            lincomb_cube[i] = math.floor(lincomb_cube[i])\n",
    "    return lincomb_cube\n",
    "\n",
    "def closest_versus_minimal():\n",
    "    cases = from_json(jsonfilename)\n",
    "    res = [0,0]\n",
    "    for case in cases: \n",
    "        cube_minimal = evaluate_norms_at_cube(case[\"lincomb_cube\"], case[\"B\"])[1]\n",
    "        x = closest_point_in_cube(case[\"lincomb_cube\"], case[\"lincomb_LLL\"])\n",
    "        cube_closest = [(matrix(x) * matrix(case[\"B\"])).norm().n(), x]\n",
    "        if cube_minimal == cube_closest:\n",
    "            res[0] += 1\n",
    "        else:\n",
    "            res[1] += 1\n",
    "    return res\n",
    "\n",
    "closest_versus_minimal()\n"
   ]
  },
  {
   "cell_type": "code",
   "execution_count": null,
   "id": "e6cb6d50",
   "metadata": {},
   "outputs": [],
   "source": []
  }
 ],
 "metadata": {
  "kernelspec": {
   "display_name": "SageMath 9.0",
   "language": "sage",
   "name": "sagemath"
  },
  "language_info": {
   "codemirror_mode": {
    "name": "ipython",
    "version": 3
   },
   "file_extension": ".py",
   "mimetype": "text/x-python",
   "name": "python",
   "nbconvert_exporter": "python",
   "pygments_lexer": "ipython3",
   "version": "3.8.10"
  }
 },
 "nbformat": 4,
 "nbformat_minor": 5
}
