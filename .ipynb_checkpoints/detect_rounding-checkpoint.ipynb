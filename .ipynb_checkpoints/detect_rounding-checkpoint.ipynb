{
 "cells": [
  {
   "cell_type": "code",
   "execution_count": 48,
   "id": "def71539",
   "metadata": {},
   "outputs": [],
   "source": [
    "%run generate_new_examples.ipynb     # importing functions"
   ]
  },
  {
   "cell_type": "code",
   "execution_count": 36,
   "id": "4f76ae7a",
   "metadata": {},
   "outputs": [],
   "source": [
    "# jsonfilename = \"noname.json\"\n",
    "limits = [0.05, 0.005, 0.001]"
   ]
  },
  {
   "cell_type": "markdown",
   "id": "3a4dab83",
   "metadata": {},
   "source": [
    "# Rounding detection\n",
    "\n",
    "This notebook's purpose is to test a following hypothesis: given a \"cube\" defined by real-valued coordinates from the cube algorithm, assume a roundin of these coordinates, which are in some sense *almost* a whole number. We test, whether this rounding gives us the desired coordinate of the linear combination given by the LLL. \n",
    "\n",
    "Note: this may not work always, as sometimes the skip is greater than 1."
   ]
  },
  {
   "cell_type": "code",
   "execution_count": 54,
   "id": "b7a8202d",
   "metadata": {},
   "outputs": [],
   "source": [
    "def detect_rounding(jsonfilename):\n",
    "    cases = from_json(jsonfilename)\n",
    "    result = {}\n",
    "    for limit in limits:\n",
    "        result[limit] = [0, 0] \n",
    "    for case in cases:\n",
    "        for i in range(len(case[\"lincomb_cube\"])):\n",
    "            \n",
    "            #skip equal components\n",
    "            if case[\"lincomb_diff\"][i] == 0:\n",
    "                continue\n",
    "                \n",
    "            for limit in limits:\n",
    "                num_cube = case[\"lincomb_cube\"][i]\n",
    "                num_LLL = case[\"lincomb_LLL\"][i]\n",
    "                if (ceil(num_cube, limit) or floor(num_cube, limit)) and round(num_cube) == num_LLL:\n",
    "                    result[limit] = increment(result, limit, 0)\n",
    "                elif ceil(num_cube, limit) or floor(num_cube, limit): \n",
    "                    result[limit] = increment(result, limit, 1)\n",
    "    return result\n",
    "\n",
    "def ceil(num_cube, limit):\n",
    "    # if the decimal part is almost the next integer\n",
    "    return  1 - abs(num_cube % 1) < limit \n",
    "\n",
    "def floor(num_cube, limit):\n",
    "    return abs(num_cube % 1) < limit\n",
    "\n",
    "def increment(result, limit, ind):\n",
    "    if ind == 0:\n",
    "        return [result.get(limit,0)[0] + 1, result.get(limit,0)[1]] \n",
    "    return [result.get(limit,0)[0], result.get(limit,0)[1] + 1]\n"
   ]
  },
  {
   "cell_type": "code",
   "execution_count": 55,
   "id": "1c5d1bd1",
   "metadata": {},
   "outputs": [
    {
     "data": {
      "text/plain": [
       "{0.0500000000000000: [338, 2430],\n",
       " 0.00500000000000000: [26, 220],\n",
       " 0.00100000000000000: [8, 44]}"
      ]
     },
     "execution_count": 55,
     "metadata": {},
     "output_type": "execute_result"
    }
   ],
   "source": [
    "detect_rounding(\"matrices6x6-12000instances.json\")"
   ]
  },
  {
   "cell_type": "code",
   "execution_count": null,
   "id": "c26a7550",
   "metadata": {},
   "outputs": [],
   "source": []
  },
  {
   "cell_type": "code",
   "execution_count": null,
   "id": "eaf68830",
   "metadata": {},
   "outputs": [],
   "source": []
  }
 ],
 "metadata": {
  "kernelspec": {
   "display_name": "SageMath 9.0",
   "language": "sage",
   "name": "sagemath"
  },
  "language_info": {
   "codemirror_mode": {
    "name": "ipython",
    "version": 3
   },
   "file_extension": ".py",
   "mimetype": "text/x-python",
   "name": "python",
   "nbconvert_exporter": "python",
   "pygments_lexer": "ipython3",
   "version": "3.8.10"
  }
 },
 "nbformat": 4,
 "nbformat_minor": 5
}
