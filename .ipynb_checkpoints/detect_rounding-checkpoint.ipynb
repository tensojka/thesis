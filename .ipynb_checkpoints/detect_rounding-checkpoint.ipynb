{
 "cells": [
  {
   "cell_type": "code",
   "execution_count": 1,
   "id": "def71539",
   "metadata": {},
   "outputs": [],
   "source": [
    "%run generate_new_examples.ipynb     # importing functions"
   ]
  },
  {
   "cell_type": "code",
   "execution_count": 2,
   "id": "4f76ae7a",
   "metadata": {},
   "outputs": [],
   "source": [
    "# jsonfilename = \"noname.json\"\n",
    "limits = [0.05, 0.005, 0.0010, 0.005, 0.0001]"
   ]
  },
  {
   "cell_type": "markdown",
   "id": "3a4dab83",
   "metadata": {},
   "source": [
    "# Rounding detection\n",
    "\n",
    "This notebook's purpose is to test a following hypothesis: given a \"cube\" defined by real-valued coordinates from the cube algorithm, assume a roundin of these coordinates, which are in some sense *almost* a whole number. We test, whether this rounding gives us the desired coordinate of the linear combination given by the LLL. \n",
    "\n",
    "Note: this may not work always, as sometimes the skip is greater than 1."
   ]
  },
  {
   "cell_type": "code",
   "execution_count": 52,
   "id": "b7a8202d",
   "metadata": {},
   "outputs": [],
   "source": [
    "def detect_rounding(jsonfilename):\n",
    "    cases = from_json(jsonfilename)\n",
    "    stats = {}\n",
    "    for limit in limits:\n",
    "        stats[limit] = [0, 0] \n",
    "    for case in cases:\n",
    "        for i in range(len(case[\"lincomb_cube\"])):\n",
    "            \n",
    "            #skip equal components\n",
    "            if case[\"lincomb_diff\"][i] == 0:\n",
    "                continue\n",
    "                \n",
    "            for limit in limits:\n",
    "                num_cube = case[\"lincomb_cube\"][i]\n",
    "                num_LLL = case[\"lincomb_LLL\"][i]\n",
    "                if ceil(num_cube, limit) or floor(num_cube, limit): # if its almost an int\n",
    "                    if round(num_cube) == num_LLL:\n",
    "                        stats[limit] = increment(result, limit, 0)\n",
    "                    else: \n",
    "                        stats[limit] = increment(result, limit, 1)\n",
    "    return stats\n",
    "\n",
    "def ceil(num_cube, limit):\n",
    "    # if the decimal part is almost the next integer\n",
    "    # print(num_cube, 1 - abs(num_cube % 1))\n",
    "    return  1 - abs(num_cube % 1) < limit \n",
    "\n",
    "def floor(num_cube, limit):\n",
    "    # print(num_cube, abs(num_cube % 1))\n",
    "    return abs(num_cube % 1) < limit\n",
    "\n",
    "def increment(result, limit, ind):\n",
    "    if ind == 0:\n",
    "        return [result.get(limit,0)[0] + 1, result.get(limit,0)[1]] \n",
    "    return [result.get(limit,0)[0], result.get(limit,0)[1] + 1]"
   ]
  },
  {
   "cell_type": "code",
   "execution_count": 4,
   "id": "1c5d1bd1",
   "metadata": {},
   "outputs": [
    {
     "name": "stdout",
     "output_type": "stream",
     "text": [
      "success: 338    fail: 2430 for limit = 0.0500000000000000\n",
      "success: 52    fail: 440 for limit = 0.00500000000000000\n",
      "success: 8    fail: 44 for limit = 0.00100000000000000\n",
      "success: 0    fail: 6 for limit = 0.000100000000000000\n"
     ]
    }
   ],
   "source": [
    "for [k, [a,b]] in detect_rounding(\"matrices6x6-12000instances.json\").items():\n",
    "    print(\"success: {}    fail: {} for limit = {}\".format(a,b, k))"
   ]
  },
  {
   "cell_type": "code",
   "execution_count": 53,
   "id": "c26a7550",
   "metadata": {},
   "outputs": [
    {
     "name": "stdout",
     "output_type": "stream",
     "text": [
      "FLOOOOOOOOOOOOOOR VETEV\n",
      "38.00006103515625 40.0\n",
      "ceil: False floor:  True\n",
      "desetinna cast 6.103515625e-05\n",
      "cube: 38.000061035156, LLL: 40.0:\n",
      "\n",
      "ceil: True floor:  False\n",
      "desetinna cast 0.9999160766601\n",
      "to, co ma byt mensi nez limita aka dsetinna cest  8.39233398\n",
      "cube: 0.99991607, LLL: 3.0:\n",
      "\n",
      "FLOOOOOOOOOOOOOOR VETEV\n",
      "4.5924854930490255e-05 1.0\n",
      "ceil: False floor:  True\n",
      "desetinna cast 4.592485493049\n",
      "cube: 4.592485493049, LLL: 1.0:\n",
      "\n",
      "FLOOOOOOOOOOOOOOR VETEV\n",
      "44.00006103515625 50.0\n",
      "ceil: False floor:  True\n",
      "desetinna cast 6.103515625e-05\n",
      "cube: 44.000061035156, LLL: 50.0:\n",
      "\n",
      "FLOOOOOOOOOOOOOOR VETEV\n",
      "6.316404324024916e-05 1.0\n",
      "ceil: False floor:  True\n",
      "desetinna cast 6.3164043240249\n",
      "cube: 6.3164043240249, LLL: 1.0:\n",
      "\n",
      "ceil: True floor:  False\n",
      "desetinna cast 0.9999493180075\n",
      "to, co ma byt mensi nez limita aka dsetinna cest  5.06819924\n",
      "cube: -5.0681992, LLL: 2.0:\n",
      "\n",
      "success: 0    fail: 6 for limit = 0.000100000000000000\n"
     ]
    }
   ],
   "source": [
    "limits = [0.0001]\n",
    "for [k, [a,b]] in detect_rounding(\"matrices6x6-12000instances.json\").items():\n",
    "    print(\"success: {}    fail: {} for limit = {}\".format(a,b, k))"
   ]
  },
  {
   "cell_type": "code",
   "execution_count": null,
   "id": "eaf68830",
   "metadata": {},
   "outputs": [],
   "source": []
  }
 ],
 "metadata": {
  "kernelspec": {
   "display_name": "SageMath 9.0",
   "language": "sage",
   "name": "sagemath"
  },
  "language_info": {
   "codemirror_mode": {
    "name": "ipython",
    "version": 3
   },
   "file_extension": ".py",
   "mimetype": "text/x-python",
   "name": "python",
   "nbconvert_exporter": "python",
   "pygments_lexer": "ipython3",
   "version": "3.8.10"
  }
 },
 "nbformat": 4,
 "nbformat_minor": 5
}
