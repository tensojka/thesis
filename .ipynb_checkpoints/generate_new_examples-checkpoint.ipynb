{
 "cells": [
  {
   "cell_type": "code",
   "execution_count": 32,
   "id": "2228db58",
   "metadata": {
    "slideshow": {
     "slide_type": "slide"
    }
   },
   "outputs": [],
   "source": [
    "dimension = 3\n",
    "perimeter = 50\n",
    "sensitivity = 1\n",
    "jsonfilename = \"dummyfile.json\""
   ]
  },
  {
   "cell_type": "markdown",
   "id": "9d0620ef",
   "metadata": {},
   "source": [
    "# Generating new examples\n",
    "\n",
    "This notebook's purpose is to generate new examples of *dysfunctional matrices* - matrices for which the cube algorithm gives different result than the LLL algorithm. For now, this code generates only square matrices. It returns a json file containing the *dysfunctional* matrices and their core parameters.\n",
    "\n",
    "The generating function takes in parameters above.\n",
    "\n",
    "`dimension`: the shape of the matrix\n",
    "\n",
    "`perimeter`: defines an interval `[- perimeter, perimeter]` for the integers inside the matrix\n",
    "\n",
    "`sensitivity`: lol i forgot\n",
    "\n",
    "`jsonfilename`: name of the ouput file\n",
    "\n",
    "## Output format\n",
    "\n",
    "Jsonfile containing a `list` of `dictionaries`, each dictionary representing single case of a *dysfunctional matrix*. The `dict` includes the following: \n",
    "\n",
    "`\"B\"` the original faulty matrix `B`\n",
    "\n",
    "`\"G\"` it's corresponding Gram matrix\n",
    "\n",
    "`\"lincomb_LLL\"` linear combination corresponding to the shortest vector according to the LLL algorithm\n",
    "\n",
    "`\"lincomb_cube\"` linear combination corresponding to the shortest vector according to the cube algorithm\n",
    "\n",
    "`\"sv_LLL\"` shortest vector according to LLL \n",
    "\n",
    "`\"sv_cube\"` shortest vector according to cube\n",
    "\n",
    "`\"lincomb_diff\"` difference between the two linear combination (their matrices subtracted)\n",
    "\n",
    "`\"Diff impact\"` detailed matrix multiplication of the difference matrix\n"
   ]
  },
  {
   "cell_type": "markdown",
   "id": "e76e661f",
   "metadata": {},
   "source": [
    "## Code and commentary\n",
    "\n",
    "### Utilitary math tools\n",
    "\n",
    "These functions are uniteresting tools needed for the basic computations. Functions such as *finding the shortest vectors of a basis matrix*, *creating a random linearly independent basis matrix*, *computing Gram matrix of a given matrix* or *converting between data types*"
   ]
  },
  {
   "cell_type": "code",
   "execution_count": 19,
   "id": "9d981872",
   "metadata": {},
   "outputs": [],
   "source": [
    "# UNINTERESTING TOOLS\n",
    "from random import randint, seed\n",
    "\n",
    "\n",
    "def shortestVector(matrix): \n",
    "    \"\"\"\n",
    "    :returns: \n",
    "        - n - norm of the shortest vector\n",
    "        - v - the shortest vector (vector)\n",
    "        - i - index of the SV\n",
    "    \"\"\"\n",
    "    return sorted([(matrix[idx].norm().n(), matrix[idx], idx) for idx in range(matrix.nrows())])[0]\n",
    "\n",
    "def randomMatrix(dimension, per) -> matrix:\n",
    "    list = [randint(-per, per) for _ in range(dimension**2)]\n",
    "    M = matrix(ZZ, dimension, dimension, list)\n",
    "    while M.rank() != dimension:\n",
    "        list = [randint(-per, per) for _ in range(dimension**2)]\n",
    "        M = matrix(ZZ, dimension, dimension, list)\n",
    "    return M\n",
    "\n",
    "def gram_matrix(matrix) -> matrix:\n",
    "    return matrix * matrix.transpose()\n",
    "\n",
    "def matrix_to_list(A) -> list:\n",
    "    return [[int(A.list()[row * A.ncols() + col]) for col in range(A.ncols())] for row in range(A.nrows())]\n",
    "\n",
    "def vector_to_list(vector) -> list:\n",
    "    return [float(num) for num in vector.list()]"
   ]
  },
  {
   "cell_type": "markdown",
   "id": "e9764965",
   "metadata": {},
   "source": [
    "### Interesting math tools. \n",
    "\n",
    "Following functions actually have some thoughts behind them. \n",
    "\n",
    "\n",
    "`inner_comparsion`\n",
    "\n",
    "`find_real_minimum`\n",
    "\n",
    "`matrix_multiplication_detailed`\n",
    "Given a matrix $A$ and a vector $v$, computes a detailed matrix multiplication $v \\cdot A \\cdot v^T$ in a sense, that every cell in the matrix is multiplicated with the corresponding cell of the vector. The goal is to have clearer perspective on which cells in the matrix are effecting the multiplication the most. \n",
    "Return this detailed matrix and a sum of it's elements, resp. the result of $v \\cdot A \\cdot v^T$.\n"
   ]
  },
  {
   "cell_type": "code",
   "execution_count": 1,
   "id": "15788a4a",
   "metadata": {},
   "outputs": [],
   "source": [
    "### batshit cool math\n",
    "def inner_comparsion(dimension, perimeter, B, B_red, v_min, x, G,i) -> dict:\n",
    "    solutions = find_real_minimum(G, i, x[i])\n",
    "    for j in range(dimension - 1):  # zbytecny forcyklus???\n",
    "        difference = x[j] - solutions[j]\n",
    "        if abs(difference) > sensitivity: \n",
    "            if all([sol == 0 for sol in solutions]):# FIXME fuj\n",
    "                break  \n",
    "            return into_dict(B, G, x, solutions)\n",
    "        \n",
    "def find_real_minimum(G, i, x) -> vector:\n",
    "    matrixA = matrix(G.nrows() - 1, G.nrows() - 1, 0)\n",
    "    matrixB = matrix(G.nrows() - 1, 1, 0)\n",
    "    matrixA[0,0] = 1\n",
    "    a, b = 0, 0\n",
    "    for row in range(G.nrows()):\n",
    "        if row != i:\n",
    "            matrixA[a] = [G[row, j] for j in range(len(G[row])) if j != i]\n",
    "            matrixB[b] = sum([x * G[row,j] for j in range(len(G[row])) if j == i])\n",
    "            a += 1\n",
    "            b += 1\n",
    "    # insert indices\n",
    "    result = (matrixA.solve_right((-1)*matrixB)).list()\n",
    "    result.insert(i,x)\n",
    "    return vector(result).n(digits=5) \n",
    "\n",
    "\n",
    "def matrix_multiplication_detailed(A, vector) -> (matrix, float):\n",
    "    \"\"\"\n",
    "    :returns: \n",
    "        - A - matrix A multiplied in rows and cols by vector\n",
    "        - x - sum of all elements in the returned matrix\n",
    "    \"\"\"\n",
    "    A = matrix_to_list(A)\n",
    "    n = len(A)\n",
    "    vector = vector_to_list(vector)\n",
    "    for i in range(n):\n",
    "        for j in range(n):\n",
    "            A[i][j] = round(A[i][j]*  vector[i] * vector[j], 2)\n",
    "    return matrix(A), round(sum(sum(A, [])), 2)"
   ]
  },
  {
   "cell_type": "markdown",
   "id": "9890249c",
   "metadata": {},
   "source": [
    "### Formatting tools\n",
    "\n",
    "These functions provide transfering the data to the output jsonfile as described above."
   ]
  },
  {
   "cell_type": "code",
   "execution_count": 17,
   "id": "7bdeacaf",
   "metadata": {},
   "outputs": [],
   "source": [
    "### output formatting\n",
    "import json\n",
    "\n",
    "def format_data(output_data):\n",
    "    for dic in output_data:\n",
    "        for key, value in dic.items():\n",
    "            if isinstance(value, sage.matrix.matrix_integer_dense.Matrix_integer_dense):\n",
    "                dic[key] = matrix_to_list(value)\n",
    "            else:\n",
    "            # FIXME here I assume that output_data consits only of matrices and one-line entries (vectors, free modules)\n",
    "            # it IS going to crash if I try to save integers/floats\n",
    "                dic[key] = vector_to_list(value)\n",
    "    return output_data\n",
    "\n",
    "def into_json(output_data):\n",
    "    out_file = open(jsonfilename, \"w+\") \n",
    "    json.dump(output_data, out_file) \n",
    "    out_file.close() \n",
    "\n",
    "def from_json(input_data):\n",
    "    out_file = open(jsonfilename)\n",
    "    return json.load(out_file) # close it maybe?\n",
    "\n",
    "def print_listdict(list) list of dict -> None:\n",
    "    for dictionary in list:\n",
    "        for pair in dictionary.items():\n",
    "            print(pair[1], \": \", pair[0])\n",
    "    print()\n",
    "    \n",
    "def into_dict(B, G, x, solutions) -> dict:\n",
    "    result = {}\n",
    "    result[\"B\"] = B\n",
    "    result[\"G\"] = G\n",
    "    result[\"lincomb_LLL\"] = x\n",
    "    result[\"lincomb_cube\"] = solutions\n",
    "    result[\"sv_LLL\"] = x*B\n",
    "    result[\"sv_cube\"] = vector(solutions)*B\n",
    "    result[\"lincomb_diff\"] = x - vector(solutions)\n",
    "    result[\"Diff impact\"] = matrix_multiplication_detailed(G, x - vector(solutions))[0]\n",
    "#     result[\"Diff impact sum\"] = matrix_multiplication_detailed(B, x - vector(solutions))[1]\n",
    "#     result[\"LLL.norm\"] = vector(x*B).norm().n(digits=5)\n",
    "#     result[\"cube.norm\"] = (vector(solutions)*B).norm().n(digits=5)\n",
    "    return result\n",
    "    "
   ]
  },
  {
   "cell_type": "markdown",
   "id": "5be32fad",
   "metadata": {},
   "source": [
    "### Main function\n",
    "\n",
    "This cell actually generates the new examples and checks wheter a matrix is *dysfunctional*. "
   ]
  },
  {
   "cell_type": "code",
   "execution_count": 30,
   "id": "4d82b33f",
   "metadata": {
    "scrolled": true
   },
   "outputs": [],
   "source": [
    "# MAIN \n",
    "def generate_new_examples(iterations, printing = False) -> None:\n",
    "    output_data = []\n",
    "    for _ in range(iterations):\n",
    "        B = randomMatrix(dimension, perimeter)\n",
    "        data = abnormality_check(B)\n",
    "        if data != None: \n",
    "            output_data.append(abnormality_check(B))\n",
    "    # formatting of the output data:\n",
    "    if printing:\n",
    "        print_listdict(dictionary)\n",
    "    into_json(format_data(output_data))\n",
    "\n",
    "\n",
    "def abnormality_check(B) -> dict:\n",
    "    B_red = B.LLL()\n",
    "    v_min = shortestVector(B_red)[1]\n",
    "    x = B.solve_left(v_min) # find linear combination corresponding to shortest vector found by LLL\n",
    "    G = gram_matrix(B)\n",
    "    for i in range(G.nrows()):\n",
    "        data = inner_comparsion(dimension, perimeter, B, B_red, v_min, x, G,i) # terrible\n",
    "        if data != None: # I think that this if is not neccessary as the same condition is questioned in gen_new_ex()\n",
    "            return data"
   ]
  },
  {
   "cell_type": "code",
   "execution_count": 1,
   "id": "fdcb6dd7",
   "metadata": {},
   "outputs": [],
   "source": [
    "# generate_new_examples(100000, True)"
   ]
  }
 ],
 "metadata": {
  "kernelspec": {
   "display_name": "SageMath 9.0",
   "language": "sage",
   "name": "sagemath"
  },
  "language_info": {
   "codemirror_mode": {
    "name": "ipython",
    "version": 3
   },
   "file_extension": ".py",
   "mimetype": "text/x-python",
   "name": "python",
   "nbconvert_exporter": "python",
   "pygments_lexer": "ipython3",
   "version": "3.8.10"
  }
 },
 "nbformat": 4,
 "nbformat_minor": 5
}
