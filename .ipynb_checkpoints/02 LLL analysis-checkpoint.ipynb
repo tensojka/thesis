{
 "cells": [
  {
   "cell_type": "code",
   "execution_count": 2,
   "metadata": {},
   "outputs": [],
   "source": [
    "# returns matrix mu and list of squared euclidean norms\n",
    "#   of the vectors in Gram-Schmidt orthogonalized basis\n",
    "#   (Cholesky decomposition avoiding use of irrationals)\n",
    "# G ... Gram matrix to be decomposed\n",
    "def chol_decomp(G, cols=-1):\n",
    "    rows = G.nrows()\n",
    "    if cols < 0:\n",
    "        cols = rows\n",
    "    mu = matrix(QQ, rows, cols)\n",
    "    squares = vector(QQ, cols)\n",
    "    for y in range(rows):\n",
    "        over_cols = (y>=cols)\n",
    "        for x in range(cols if over_cols else y):\n",
    "            t = 0\n",
    "            for i in range(x):\n",
    "                t += mu[y,i]*mu[x,i]*squares[i]\n",
    "            mu[y,x] = (G[y,x]-t)/squares[x]\n",
    "        if not over_cols:\n",
    "            t = 0\n",
    "            for i in range(y):\n",
    "                t += mu[y,i]*mu[y,i]*squares[i]\n",
    "            mu[y,y] = 1\n",
    "            squares[y] = G[y,y]-t\n",
    "    return (mu, squares)\n",
    "\n",
    "# auxiliary function: swaps i-th row with the previous one\n",
    "def swap_rows_in_mu(mu, B, i, n):\n",
    "    mu[i-1], mu[i] = mu[i], mu[i-1]\n",
    "    mu[i,i], mu[i-1,i] = 1, 0\n",
    "    r = mu[i-1,i-1]\n",
    "    mu[i-1,i-1] = 1\n",
    "    temp = B[i-1]*r**2 + B[i]\n",
    "    mu[i,i-1] = r*B[i-1]/temp\n",
    "    B[i] = B[i-1]*B[i]/temp\n",
    "    B[i-1] = temp\n",
    "    for j in range(i+1, n):\n",
    "        mu[j,i-1], mu[j,i] = mu[i,i-1]*mu[j,i-1]+mu[j,i]*(1-r*mu[i,i-1]), \\\n",
    "                           mu[j,i-1]-r*mu[j,i]\n",
    "\n",
    "# auxiliary function: the inner cycle of LLL\n",
    "def LLL_reduce_row(b, mu, i, h):\n",
    "    for j in range(h-1, -1, -1):\n",
    "        t = round(mu[i, j])\n",
    "        for k in range(j+1):\n",
    "            mu[i, k] -= t*mu[j, k]\n",
    "        b[i] -= t*b[j]\n",
    "\n",
    "# auxiliary function: LLL reduction algorithm\n",
    "# b ... integer basis (does'n have to be square matrix)\n",
    "# mu ... Gram-Schmidt mu matrix (doesn't have to be square matrix)\n",
    "# B ... squared norms of Gram-Schmidt orthogonalized vectors\n",
    "# n ... number of rows of b to be reduced (usually b.nrows())\n",
    "# h ... index of first row not to be swapped (only reduced)\n",
    "def LLL_aux(b, delta, mu, B, n, h):\n",
    "    i = 1\n",
    "    flag = True\n",
    "    while i < h:\n",
    "        if flag:\n",
    "            LLL_reduce_row(b, mu, i, i)\n",
    "        if i > 0 and (delta-mu[i,i-1]**2)*B[i-1] > B[i]:\n",
    "            b[i], b[i-1] = b[i-1], b[i]\n",
    "            swap_rows_in_mu(mu, B, i, n)\n",
    "            i -= 1\n",
    "            flag = False\n",
    "        else:\n",
    "            i += 1\n",
    "            flag = True\n",
    "    while i < n:  # performed only if n>h\n",
    "        LLL_reduce_row(b, mu, i, h)\n",
    "        i += 1\n",
    "    return b, mu, B\n",
    "\n",
    "# classical LLL algorithm\n",
    "# last row of b can be used as a target point in Babai's algorithm\n",
    "def LLL_own(b, delta=3/4, babai_bool=False):\n",
    "    mu, B = chol_decomp(b*b.transpose(), b.nrows()-babai_bool)\n",
    "    return LLL_aux(copy(b), delta, mu, B, b.nrows(), b.nrows()-babai_bool)[0]\n",
    "\n",
    "# LLL for triangular input basis\n",
    "def LLL_triangular_input(b, delta=3/4, babai_bool=False):\n",
    "    B = vector(QQ, [b[j,j]**2 for j in range(b.ncols())])\n",
    "    mu = matrix(QQ, b)\n",
    "    for j in range(mu.ncols()):\n",
    "        r = mu[j,j]\n",
    "        for i in range(j, mu.nrows()):\n",
    "            mu[i,j] /= r\n",
    "    return LLL_aux(copy(b), delta, mu, B, b.nrows(), b.nrows()-babai_bool)[0]\n"
   ]
  },
  {
   "cell_type": "code",
   "execution_count": 3,
   "metadata": {},
   "outputs": [],
   "source": [
    "from random import randint, seed\n",
    "\n",
    "def randomMatrix(dimension, perimeter):\n",
    "    list = [randint(-perimeter, perimeter) for _ in range(dimension**2)]\n",
    "    return matrix(ZZ, dimension, dimension, list)\n"
   ]
  },
  {
   "cell_type": "code",
   "execution_count": 5,
   "metadata": {},
   "outputs": [
    {
     "data": {
      "text/plain": [
       "[ 33 -45 -21  40  -4  -9  36 -12  44 -37]\n",
       "[ 41 -47  18  11 -18 -15  -1 -21 -45 -37]\n",
       "[ -3 -40 -48 -35  -2 -15  11 -35 -25 -10]\n",
       "[ 41 -15  -7 -20  -3 -18  17  18   2  45]\n",
       "[-15  21  32   0  43   0  23  32  31 -40]\n",
       "[ 30 -24   3  -5  13  41 -26  10 -22  17]\n",
       "[ -1 -39 -26   1 -12 -44  16  27 -20 -15]\n",
       "[-49 -21  27 -27  -1   2 -14 -37   1  34]\n",
       "[ 60 -48   7  32   1 -16 -54  -5  23 -10]\n",
       "[  6  -8  -4  60  42 -32  10   9 -13  34]"
      ]
     },
     "execution_count": 5,
     "metadata": {},
     "output_type": "execute_result"
    }
   ],
   "source": [
    "LLL_own(randomMatrix(10, 50))"
   ]
  }
 ],
 "metadata": {
  "kernelspec": {
   "display_name": "SageMath 9.0",
   "language": "sage",
   "name": "sagemath"
  },
  "language_info": {
   "codemirror_mode": {
    "name": "ipython",
    "version": 3
   },
   "file_extension": ".py",
   "mimetype": "text/x-python",
   "name": "python",
   "nbconvert_exporter": "python",
   "pygments_lexer": "ipython3",
   "version": "3.8.10"
  }
 },
 "nbformat": 4,
 "nbformat_minor": 2
}
