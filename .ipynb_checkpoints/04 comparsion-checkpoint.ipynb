{
 "cells": [
  {
   "cell_type": "code",
   "execution_count": 37,
   "id": "9d981872",
   "metadata": {},
   "outputs": [],
   "source": [
    "from random import randint, seed\n",
    "\n",
    "\n",
    "def shortestVector(matrix):\n",
    "    \"\"\"\n",
    "    Returns the norm of the shortest vector and its index.\n",
    "    \"\"\"\n",
    "    return sorted([(matrix[idx].norm().n(), matrix[idx], idx) for idx in range(matrix.nrows())])[0]\n",
    "\n",
    "def randomMatrix(dimension, per) -> matrix:\n",
    "    list = [randint(-per, per) for _ in range(dimension**2)]\n",
    "    M = matrix(ZZ, dimension, dimension, list)\n",
    "    while M.rank() != dimension:\n",
    "        list = [randint(-per, per) for _ in range(dimension**2)]\n",
    "        M = matrix(ZZ, dimension, dimension, list)\n",
    "    return M\n",
    "\n",
    "def gram_matrix(matrix) -> matrix:\n",
    "    \"\"\"\n",
    "    Calculate Gram matrix of given matrix.\n",
    "    :param matrix: given matrix\n",
    "    :return: Gram matrix of matrix\n",
    "    \"\"\"\n",
    "    return matrix * matrix.transpose()\n",
    "\n",
    "\n",
    "def find_real_minimum(G, i, x) -> vector:\n",
    "    matrixA = matrix(G.nrows() - 1, G.nrows() - 1, 0)\n",
    "    matrixB = matrix(G.nrows() - 1, 1, 0)\n",
    "    matrixA[0,0] = 1\n",
    "    a, b = 0, 0\n",
    "    for row in range(G.nrows()):\n",
    "        if row != i:\n",
    "            matrixA[a] = [G[row, j] for j in range(len(G[row])) if j != i]\n",
    "            matrixB[b] = sum([x * G[row,j] for j in range(len(G[row])) if j == i])\n",
    "            a += 1\n",
    "            b += 1\n",
    "    # insert indices\n",
    "    result = (matrixA.solve_right((-1)*matrixB)).list()\n",
    "    result.insert(i,x)\n",
    "    return vector(result).n(digits=5) \n",
    "\n"
   ]
  },
  {
   "cell_type": "code",
   "execution_count": 49,
   "id": "15788a4a",
   "metadata": {},
   "outputs": [],
   "source": [
    "def innerComparsion(dimension, perimeter, B, B_red, v_min, x, G,i) -> dict:\n",
    "    solutions = find_real_minimum(G, i, x[i])\n",
    "    for j in range(dimension - 1):  # zbytecny forcyklus???\n",
    "        difference = x[j] - solutions[j]\n",
    "        if difference > 1.5: \n",
    "            if all([sol == 0 for sol in solutions]):\n",
    "                break  \n",
    "            return into_dict(B, G, x, solutions)\n",
    "        \n",
    "def matrix_to_list(A) -> list:\n",
    "    return [[int(A.list()[row * A.ncols() + col]) for col in range(A.ncols())] for row in range(A.nrows())]\n",
    "\n",
    "def vector_to_list(vector) -> list:\n",
    "    return [float(num) for num in vector.list()]\n",
    "\n",
    "\n",
    "def into_dict(B, G, x, solutions) -> dict:\n",
    "    result = {}\n",
    "    result[\"B\"] = B\n",
    "    result[\"G\"] = G\n",
    "    result[\"The linear combination given by LLL\"] = x\n",
    "    result[\"The linear combination suggested by cube\"] = solutions\n",
    "    result[\"The difference\"] = x - vector(solutions)\n",
    "    result[\"Shortest vector given by LLL\"] = x*B\n",
    "    return result\n"
   ]
  },
  {
   "cell_type": "code",
   "execution_count": 61,
   "id": "4d82b33f",
   "metadata": {},
   "outputs": [
    {
     "name": "stdout",
     "output_type": "stream",
     "text": [
      "[{'B': [  5 -45  23  11]\n",
      "[-12 -45 -47  21]\n",
      "[  7 -40 -37  -8]\n",
      "[ 44 -16 -50 -50], 'G': [2700 1115  896 -760]\n",
      "[1115 4819 3287 1492]\n",
      "[ 896 3287 3082 3198]\n",
      "[-760 1492 3198 7192], 'The linear combination given by LLL': (1, 1, -2, 1), 'The linear combination suggested by cube': (1.0000, 1.8667, -3.6937, 1.3608), 'The difference': (0.00000, -0.86671, 1.6937, -0.36084), 'Shortest vector given by LLL': (23, -26, 0, -2)}, {'B': [-38  42  19 -27]\n",
      "[ -9   6   1  -7]\n",
      "[-41  30  45 -12]\n",
      "[-27  -7  44   1], 'G': [4298  802 3997 1541]\n",
      "[ 802  167  678  238]\n",
      "[3997  678 4750 2865]\n",
      "[1541  238 2865 2715], 'The linear combination given by LLL': (3, -5, -3, 2), 'The linear combination suggested by cube': (3.5705, -6.9011, -3.2258, 2.0000), 'The difference': (-0.57052, 1.9011, 0.22577, 0.00000), 'Shortest vector given by LLL': (0, -8, 5, -8)}, {'B': [  2  33  33  33]\n",
      "[  5  26 -41 -45]\n",
      "[ 19  39  11  15]\n",
      "[ 15  34 -38 -17], 'G': [ 3271 -1970  2183  -663]\n",
      "[-1970  4407   -17  3282]\n",
      "[ 2183   -17  2228   938]\n",
      "[ -663  3282   938  3114], 'The linear combination given by LLL': (-1, 1, 2, -2), 'The linear combination suggested by cube': (0.18719, 1.0000, 0.28764, -1.1007), 'The difference': (-1.1872, 0.00000, 1.7124, -0.89926), 'Shortest vector given by LLL': (11, 3, 24, -14)}, {'B': [-45  18   8 -22]\n",
      "[ 46 -31  -2  -1]\n",
      "[ 12  10 -12  47]\n",
      "[ 33  38 -33  32], 'G': [ 2897 -2622 -1490 -1769]\n",
      "[-2622  3082   219   374]\n",
      "[-1490   219  2597  2676]\n",
      "[-1769   374  2676  4646], 'The linear combination given by LLL': (16, 13, 7, 1), 'The linear combination suggested by cube': (14.187, 11.512, 6.1382, 1.0000), 'The difference': (1.8134, 1.4883, 0.86179, 0.00000), 'Shortest vector given by LLL': (-5, -7, -15, -4)}, {'B': [-26  19 -44  -4]\n",
      "[ 14  15   0  38]\n",
      "[ 14 -27  35 -11]\n",
      "[ -7 -23  12  46], 'G': [ 2989  -231 -2373  -967]\n",
      "[ -231  1865  -627  1305]\n",
      "[-2373  -627  2271   437]\n",
      "[ -967  1305   437  2838], 'The linear combination given by LLL': (-4, -3, -5, 1), 'The linear combination suggested by cube': (-5.2201, -3.5768, -6.6345, 1.0000), 'The difference': (1.2201, 0.57679, 1.6345, 0.00000), 'Shortest vector given by LLL': (-15, -9, 13, 3)}]\n",
      "found a matrix\n",
      "found a matrix\n",
      "found a matrix\n",
      "found a matrix\n",
      "found a matrix\n",
      "found a matrix\n",
      "found a matrix\n",
      "found a matrix\n",
      "found a matrix\n",
      "found a matrix\n",
      "Done\n"
     ]
    }
   ],
   "source": [
    "import json\n",
    "\n",
    "def main():\n",
    "    output_data = []\n",
    "    for iteration in range(1000):\n",
    "        dimension = 4\n",
    "        perimeter = 50\n",
    "        B = randomMatrix(dimension, perimeter)\n",
    "        B_red = B.LLL()\n",
    "        v_min = shortestVector(B_red)[1]\n",
    "        x = B.solve_left(v_min) # find linear combination corresponding to shortest vector found by LLL\n",
    "        G = gram_matrix(B)\n",
    "        for i in range(G.nrows()):\n",
    "            data = innerComparsion(dimension, perimeter, B, B_red, v_min, x, G,i) # terrible\n",
    "            if data != None:\n",
    "                output_data.append(data)\n",
    "    print((output_data))\n",
    "#     print_the_output(output_data)\n",
    "    into_json(format_data(output_data))\n",
    "\n",
    "def format_data(output_data):\n",
    "    for dic in output_data:\n",
    "        for key, value in dic.items():\n",
    "            if isinstance(value, sage.matrix.matrix_integer_dense.Matrix_integer_dense):\n",
    "                dic[key] = matrix_to_list(value)\n",
    "            else: # here I assume that output_data consits only f matrices and one-line entries\n",
    "                dic[key] = vector_to_list(value)\n",
    "    return output_data\n",
    "\n",
    "def into_json(output_data):\n",
    "    out_file = open(\"myfile.json\", \"w\") \n",
    "    json.dump(output_data, out_file) \n",
    "    out_file.close() \n",
    "\n",
    "\n",
    "def print_the_output(output_data) -> None:\n",
    "    for dict in output_data:\n",
    "        for pair in dict.items():\n",
    "            print(pair[1], \": \", pair[0])\n",
    "        print()\n",
    "    \n",
    "main()\n",
    "print(\"Done\")"
   ]
  },
  {
   "cell_type": "code",
   "execution_count": 44,
   "id": "a76e8e80",
   "metadata": {},
   "outputs": [
    {
     "name": "stdout",
     "output_type": "stream",
     "text": [
      "((35*y_1 + 29*y_2 - 31)*y_1 + (29*y_1 + 45*y_2 - 38)*y_2 - 31*y_1 - 38*y_2 + 45)\n",
      "((45*y_0 + 38*y_2)*y_0 + (38*y_0 + 45*y_2)*y_2)\n",
      "((45*y_0 + 31*y_1 + 38)*y_0 + (31*y_0 + 35*y_1 + 29)*y_1 + 38*y_0 + 29*y_1 + 45)\n"
     ]
    }
   ],
   "source": [
    "# for single matrix\n",
    "\n",
    "H = matrix([[5,2,4],[1,3,5],[4,5,2]])\n",
    "HLLL = H.LLL()\n",
    "v_min = shortestVector(HLLL)[1]\n",
    "h = H.solve_left(v_min) # find linear combination corresponding to shortest vector found by LLL\n",
    "for i in range(H.nrows()):\n",
    "    variables = [var('y_{}'.format(j)) for j in range(gram_matrix(H).nrows())]\n",
    "    y = deepcopy(variables)\n",
    "    y[i] = h[i]\n",
    "    Y =  matrix(1, H.nrows(), y)\n",
    "    to_minimize = (Y * gram_matrix(H) * Y.transpose())[0]\n",
    "    print(to_minimize)"
   ]
  },
  {
   "cell_type": "code",
   "execution_count": 53,
   "id": "f6041dcc",
   "metadata": {},
   "outputs": [
    {
     "ename": "AttributeError",
     "evalue": "module 'sage.matrix' has no attribute 'Matrix'",
     "output_type": "error",
     "traceback": [
      "\u001b[0;31m---------------------------------------------------------------------------\u001b[0m",
      "\u001b[0;31mAttributeError\u001b[0m                            Traceback (most recent call last)",
      "Cell \u001b[0;32mIn [53], line 4\u001b[0m\n\u001b[1;32m      2\u001b[0m matrix_to_list(H)\n\u001b[1;32m      3\u001b[0m \u001b[38;5;28mtype\u001b[39m(H)\n\u001b[0;32m----> 4\u001b[0m \u001b[38;5;28mtype\u001b[39m(H) \u001b[38;5;129;01mis\u001b[39;00m \u001b[43msage\u001b[49m\u001b[38;5;241;43m.\u001b[39;49m\u001b[43mmatrix\u001b[49m\u001b[38;5;241;43m.\u001b[39;49m\u001b[43mMatrix\u001b[49m\n",
      "\u001b[0;31mAttributeError\u001b[0m: module 'sage.matrix' has no attribute 'Matrix'"
     ]
    }
   ],
   "source": [
    "H.list()\n",
    "matrix_to_list(H)\n",
    "type(H)\n",
    "type(H) is sage.matrix.Matrix\n",
    "\n"
   ]
  },
  {
   "cell_type": "code",
   "execution_count": 54,
   "id": "f07006f3",
   "metadata": {},
   "outputs": [
    {
     "data": {
      "text/plain": [
       "<class 'sage.matrix.matrix_integer_dense.Matrix_integer_dense'>"
      ]
     },
     "execution_count": 54,
     "metadata": {},
     "output_type": "execute_result"
    }
   ],
   "source": [
    "type(H)"
   ]
  }
 ],
 "metadata": {
  "kernelspec": {
   "display_name": "SageMath 9.0",
   "language": "sage",
   "name": "sagemath"
  },
  "language_info": {
   "codemirror_mode": {
    "name": "ipython",
    "version": 3
   },
   "file_extension": ".py",
   "mimetype": "text/x-python",
   "name": "python",
   "nbconvert_exporter": "python",
   "pygments_lexer": "ipython3",
   "version": "3.8.10"
  }
 },
 "nbformat": 4,
 "nbformat_minor": 5
}
