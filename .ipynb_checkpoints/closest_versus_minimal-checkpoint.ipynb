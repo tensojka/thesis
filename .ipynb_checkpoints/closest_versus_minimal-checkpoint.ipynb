{
 "cells": [
  {
   "cell_type": "code",
   "execution_count": 2,
   "id": "acad773c",
   "metadata": {},
   "outputs": [],
   "source": [
    "%run generate_new_examples.ipynb     # importing functions"
   ]
  },
  {
   "cell_type": "markdown",
   "id": "777f70fc",
   "metadata": {},
   "source": [
    "# Closest and minimal vectors\n",
    "\n",
    "The idea is, to compare the following vectors:\n",
    "\n",
    "`closest`: the vector of the cube, which is *closest* to the vector given by the LLL algorithm\n",
    "\n",
    "`minimal`: vector of the cube, whichever of them has the smallest norm\n",
    "\n",
    "We would expect, that the closest and minimal vectors would be the same, meaning that the norm function decreases the most in the direction of the closest vector.\n",
    "\n",
    "Another way would be comparing the gradient."
   ]
  },
  {
   "cell_type": "code",
   "execution_count": 108,
   "id": "1f2add57",
   "metadata": {
    "scrolled": true
   },
   "outputs": [],
   "source": [
    "### closest_versus_minimal\n",
    "\n",
    "def closest_versus_grammatrix(jsonfilename):\n",
    "    cases = from_json(jsonfilename)\n",
    "    for case in cases:\n",
    "        closest = closest_point_in_cube(case[\"lincomb_cube\"], case[\"lincomb_LLL\"])\n",
    "        print(matrix_multiplication_detailed(matrix(case[\"G\"]), vector(closest)-vector(case[\"lincomb_LLL\"]))[0])\n",
    "        print(matrix_multiplication_detailed(matrix(case[\"G\"]), vector(closest)-vector(case[\"lincomb_LLL\"]))[1])\n",
    "        print(vector(closest)-vector(case[\"lincomb_LLL\"]))\n",
    "        print()\n",
    "    \n",
    "    # dopocitat ostatni body\n",
    "        "
   ]
  },
  {
   "cell_type": "code",
   "execution_count": 109,
   "id": "20d2ccfd",
   "metadata": {},
   "outputs": [
    {
     "name": "stdout",
     "output_type": "stream",
     "text": [
      "[450.0   0.0   0.0]\n",
      "[  0.0   0.0  -0.0]\n",
      "[  0.0  -0.0   0.0]\n",
      "450.0\n",
      "(1.0, 0.0, 0.0)\n",
      "\n",
      "[   0.0   -0.0   -0.0]\n",
      "[  -0.0 3222.0    0.0]\n",
      "[  -0.0    0.0    0.0]\n",
      "3222.0\n",
      "(0.0, 1.0, 0.0)\n",
      "\n",
      "[  0.0   0.0   0.0]\n",
      "[  0.0 686.0   0.0]\n",
      "[  0.0   0.0   0.0]\n",
      "686.0\n",
      "(0.0, -1.0, 0.0)\n",
      "\n",
      "[   0.0    0.0    0.0]\n",
      "[   0.0 1627.0    0.0]\n",
      "[   0.0    0.0    0.0]\n",
      "1627.0\n",
      "(0.0, -1.0, 0.0)\n",
      "\n",
      "[722.0  -0.0   0.0]\n",
      "[ -0.0   0.0  -0.0]\n",
      "[  0.0  -0.0   0.0]\n",
      "722.0\n",
      "(1.0, 0.0, 0.0)\n",
      "\n"
     ]
    }
   ],
   "source": [
    "closest_versus_grammatrix(\"dummyfile.json\")"
   ]
  },
  {
   "cell_type": "code",
   "execution_count": 160,
   "id": "329a199f",
   "metadata": {
    "scrolled": false
   },
   "outputs": [],
   "source": [
    "### closest_versus_minimal\n",
    "\n",
    "def wholify_floatInListAtGivenIndex(inlist, i):\n",
    "    \"\"\"\n",
    "    Given a list, with a float on the i-th position, \n",
    "    \"\"\"\n",
    "    outlist = deepcopy(inlist)\n",
    "    for _ in range(len(outlist)):\n",
    "        vector = outlist.pop(0)\n",
    "        vector[i] = math.floor(vector[i])\n",
    "        outlist.append(deepcopy(vector))\n",
    "        vector[i] = vector[i] + 1\n",
    "        outlist.append(vector)\n",
    "    return outlist\n",
    "\n",
    "def cube_points(lc_cube) -> list:\n",
    "    \"\"\"\n",
    "    Returns a list of linear combinations/vertices of the cube.\n",
    "    \"\"\"\n",
    "    points = [lc_cube]\n",
    "    for i in range((len(lc_cube))):\n",
    "        if points[0][i] % 1 != 0: # if current number is not whole \n",
    "            points = wholify_floatInListAtGivenIndex(points, i) \n",
    "    points = [list(map(lambda x : int(x), point)) for point in points]\n",
    "    return points\n",
    "    \n",
    "def evaluate_norms_at_cube(lc_cube, B):\n",
    "    \"\"\"\n",
    "    Given a real-number linear combination 'lincomb_cube', computes it's integer cube and returns their norms. \n",
    "    \"\"\"\n",
    "    vertices = cube_points(lc_cube)\n",
    "    result = []\n",
    "    for vertice in vertices:\n",
    "        result.append([(matrix(vertice) * matrix(B)).norm().n(), vertice])\n",
    "    return sorted(result)\n",
    "    \n",
    "def closest_point_in_cube(lc_cube, lc_LLL) -> list:\n",
    "    \"\"\"\n",
    "    Returns the vertice of the cube closest to the lincomb given by LLL.\n",
    "    \"\"\"\n",
    "    lc_closest = []\n",
    "    for i in range(len(lc_cube)):\n",
    "        if lc_LLL[i] > lc_cube[i]:\n",
    "            lc_closest.append(math.ceil(lc_cube[i]))\n",
    "        else:\n",
    "            lc_closest.append(math.floor(lc_cube[i]))\n",
    "    return lc_closest\n",
    "\n",
    "\n",
    "\n",
    "\n",
    "def closest_versus_minimal(jsonfilename) -> list:\n",
    "    \"Returns a list of a form [int, int]. The first number indicates  whether the closest vector was the one with shortest norm.\"\n",
    "    cases = from_json(jsonfilename)\n",
    "    stats = [0, 0]\n",
    "    for case in cases:\n",
    "        B, lc_cube, lc_LLL = case[\"B\"], case[\"lincomb_cube\"], case[\"lincomb_LLL\"]\n",
    "        minimal = evaluate_norms_at_cube(lc_cube, B)[0][1]\n",
    "        closest = closest_point_in_cube(lc_cube, lc_LLL)\n",
    "        if minimal == closest:\n",
    "            stats[0] += 1\n",
    "        else:\n",
    "            stats[1] += 1\n",
    "    return stats\n",
    "\n",
    "def closest_versus_minimal_withComments(jsonfilename) -> list:\n",
    "    \"Returns a list of a form [int, int]. The first number indicates  whether the closest vector was the one with shortest norm.\"\n",
    "    cases = from_json(jsonfilename)\n",
    "    stats = [0, 0]\n",
    "    for case in cases:\n",
    "        B, lc_cube, lc_LLL = case[\"B\"], case[\"lincomb_cube\"], list(map(lambda x : int(x), case[\"lincomb_LLL\"] ))\n",
    "        print(\"lc_LLL: \", list(map(lambda x : int(x), lc_LLL )))\n",
    "        minimal = evaluate_norms_at_cube(lc_cube, B)[0][1] # just a linear combination!\n",
    "        print(\"minimal:\", minimal)\n",
    "        closest = closest_point_in_cube(lc_cube, lc_LLL)\n",
    "        print(\"closest:\", closest)\n",
    "        print(\"LLL-min:\", [lc_LLL[i] - minimal[i] for i in range(len(minimal))])\n",
    "        print(\"LLL-clo:\", [lc_LLL[i] - closest[i] for i in range(len(minimal))])\n",
    "        print(minimal == closest)\n",
    "        print(cube_points(lc_cube))\n",
    "        print()\n",
    "        if minimal.norm() == closest.norm():\n",
    "            stats[0] += 1\n",
    "        else:\n",
    "            stats[1] += 1\n",
    "    return stats"
   ]
  },
  {
   "cell_type": "code",
   "execution_count": 162,
   "id": "5596fca2",
   "metadata": {},
   "outputs": [
    {
     "data": {
      "text/plain": [
       "[1, 4]"
      ]
     },
     "execution_count": 162,
     "metadata": {},
     "output_type": "execute_result"
    }
   ],
   "source": [
    "closest_versus_minimal(\"dummyfile.json\")"
   ]
  },
  {
   "cell_type": "code",
   "execution_count": null,
   "id": "bcca24c0",
   "metadata": {},
   "outputs": [],
   "source": []
  }
 ],
 "metadata": {
  "kernelspec": {
   "display_name": "SageMath 9.0",
   "language": "sage",
   "name": "sagemath"
  },
  "language_info": {
   "codemirror_mode": {
    "name": "ipython",
    "version": 3
   },
   "file_extension": ".py",
   "mimetype": "text/x-python",
   "name": "python",
   "nbconvert_exporter": "python",
   "pygments_lexer": "ipython3",
   "version": "3.8.10"
  }
 },
 "nbformat": 4,
 "nbformat_minor": 5
}
