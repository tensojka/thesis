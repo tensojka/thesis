{
 "cells": [
  {
   "cell_type": "code",
   "execution_count": 27,
   "id": "ff6175bf",
   "metadata": {},
   "outputs": [],
   "source": [
    "%run comparison.ipynb     # importing functions"
   ]
  },
  {
   "cell_type": "code",
   "execution_count": 93,
   "id": "60fc12f4",
   "metadata": {},
   "outputs": [
    {
     "data": {
      "text/plain": [
       "{0.0500000000000000: [40, 263], 0.00500000000000000: [4, 25]}"
      ]
     },
     "execution_count": 93,
     "metadata": {},
     "output_type": "execute_result"
    }
   ],
   "source": [
    "# dimension = 3\n",
    "# perimeter = 50\n",
    "# sensitivity = 1\n",
    "jsonfilename = \"noname).json\"\n",
    "limits = [0.05, 0.005]\n",
    "\n",
    "def detect_rounding():\n",
    "    cases = from_json(jsonfilename)\n",
    "    result = {}\n",
    "    for limit in limits:\n",
    "        result[limit] = [0, 0] \n",
    "    for case in cases:\n",
    "        for i in range(len(case[\"lincomb_cube\"])):\n",
    "            if case[\"lincomb_diff\"][i] == 0:\n",
    "                continue\n",
    "            for limit in limits:\n",
    "                num_cube = case[\"lincomb_cube\"][i]\n",
    "                num_lll = case[\"lincomb_LLL\"][i]\n",
    "                condition_floor = abs(num_cube % 1) < limit\n",
    "                condition_ceil = 1 - abs(num_cube % 1) < limit\n",
    "                if (condition_floor or condition_ceil) and round(num_cube) == num_lll:\n",
    "                    result[limit] = increment(result, limit, 0)\n",
    "                elif condition_floor or condition_ceil: \n",
    "                    result[limit] = increment(result, limit, 1)\n",
    "\n",
    "    return result\n",
    "\n",
    "def increment(result, limit, ind):\n",
    "    if ind == 0:\n",
    "        return [result.get(limit,0)[0] + 1, result.get(limit,0)[1]] \n",
    "    return [result.get(limit,0)[0], result.get(limit,0)[1] + 1]\n",
    "\n",
    "detect_rounding()"
   ]
  },
  {
   "cell_type": "code",
   "execution_count": null,
   "id": "97581a27",
   "metadata": {},
   "outputs": [],
   "source": []
  },
  {
   "cell_type": "code",
   "execution_count": null,
   "id": "7e11b82b",
   "metadata": {},
   "outputs": [],
   "source": []
  }
 ],
 "metadata": {
  "kernelspec": {
   "display_name": "SageMath 9.0",
   "language": "sage",
   "name": "sagemath"
  },
  "language_info": {
   "codemirror_mode": {
    "name": "ipython",
    "version": 3
   },
   "file_extension": ".py",
   "mimetype": "text/x-python",
   "name": "python",
   "nbconvert_exporter": "python",
   "pygments_lexer": "ipython3",
   "version": "3.8.10"
  }
 },
 "nbformat": 4,
 "nbformat_minor": 5
}
