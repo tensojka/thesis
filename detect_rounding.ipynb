{
 "cells": [
  {
   "cell_type": "code",
   "execution_count": 5,
   "id": "def71539",
   "metadata": {},
   "outputs": [
    {
     "name": "stdout",
     "output_type": "stream",
     "text": [
      "[]\n"
     ]
    }
   ],
   "source": [
    "%run generate_new_examples.ipynb     # importing functions"
   ]
  },
  {
   "cell_type": "code",
   "execution_count": 6,
   "id": "4f76ae7a",
   "metadata": {},
   "outputs": [],
   "source": [
    "# jsonfilename = \"noname.json\"\n",
    "limits = [0.05, 0.005, 0.0010, 0.0005, 0.0001]"
   ]
  },
  {
   "cell_type": "markdown",
   "id": "3a4dab83",
   "metadata": {},
   "source": [
    "# Rounding detection\n",
    "\n",
    "This notebook's purpose is to test a following hypothesis: given a \"cube\" defined by real-valued coordinates from the cube algorithm, assume a rounding of these coordinates, which are in some sense *nearly* an integer. We test whether this rounding gives us the desired coordinate of the linear combination given by the LLL. \n",
    "\n",
    "Note: this may not work always, as sometimes the jump is greater than 1."
   ]
  },
  {
   "cell_type": "code",
   "execution_count": 84,
   "id": "b7a8202d",
   "metadata": {},
   "outputs": [],
   "source": [
    "def detect_rounding(jsonfilename):\n",
    "    '''\n",
    "    OUTPUT: dict in the form \\{ limit: [succesful attempts, unsuc att.],...\\}\n",
    "    '''\n",
    "    cases = from_json(jsonfilename)\n",
    "    stats = {}\n",
    "    for limit in limits:\n",
    "        stats[limit] = [0, 0,0,0 ] \n",
    "    for case in cases:\n",
    "        for i in range(len(case[\"lincomb_cube\"])):\n",
    "            \n",
    "            #skip equal components\n",
    "            if case[\"lincomb_diff\"][i] == 0:\n",
    "                continue\n",
    "                \n",
    "            for limit in limits:\n",
    "                num_cube = case[\"lincomb_cube\"][i]\n",
    "                num_LLL = case[\"lincomb_LLL\"][i]\n",
    "                is_near_int, direction =  is_nearest_integer(num_cube, limit)\n",
    "                if is_near_int: # if its almost an int\n",
    "                    if round(num_cube) == num_LLL: \n",
    "                        stats[limit] = increment(stats, limit, 0)                        # rounding lead directly to lcLLL\n",
    "                    else:\n",
    "                        stats[limit] = increment(stats, limit, 1)                        # rounding didnt lead directly to lcLLL\n",
    "                        if lcLLL_is_in_same_direction(direction, num_cube, num_LLL):\n",
    "                            stats[limit] = increment(stats, limit, 2)                    # but it was in the same direction\n",
    "                        else: stats[limit] = increment(stats, limit, 3)\n",
    "    return stats\n",
    "\n",
    "def is_nearest_integer(num, tolerance):\n",
    "    nearest_int = round(num)\n",
    "    is_within_tolerance = abs(num - nearest_int) <= tolerance\n",
    "    if not is_within_tolerance:\n",
    "        return False, None\n",
    "    direction = \"up\" if num - nearest_int < 0 else \"down\"\n",
    "    return True, direction\n",
    "\n",
    "\n",
    "def increment(dic, limit, ind):\n",
    "    lst = [dic.get(limit,0)[0], dic.get(limit,0)[1],  dic.get(limit,0)[2],  dic.get(limit,0)[3]]\n",
    "    lst[ind] += 1\n",
    "    return lst\n",
    "\n",
    "def lcLLL_is_in_same_direction(direction, num_cube, num_LLL, ):\n",
    "    return abs(num_cube - num_LLL) - abs(round(num_cube) - num_LLL) > 0\n"
   ]
  },
  {
   "cell_type": "code",
   "execution_count": 85,
   "id": "1c5d1bd1",
   "metadata": {
    "scrolled": true
   },
   "outputs": [
    {
     "name": "stdout",
     "output_type": "stream",
     "text": [
      "success: 338  fail: 2430 for limit = 0.050\n",
      "successful rounding ratio:  12.2  % out of all nearly integers\n",
      "\n",
      "success: 26  fail: 220 for limit = 0.0050\n",
      "successful rounding ratio:  10.6  % out of all nearly integers\n",
      "\n",
      "success: 8  fail: 44 for limit = 0.0010\n",
      "successful rounding ratio:  15.4  % out of all nearly integers\n",
      "\n",
      "success: 1  fail: 20 for limit = 0.00050\n",
      "successful rounding ratio:  4.76  % out of all nearly integers\n",
      "\n",
      "success: 0  fail: 6 for limit = 0.00010\n",
      "successful rounding ratio:  0.000  % out of all nearly integers\n",
      "\n",
      "0.0500000000000000 338 2430 1192 1238\n",
      "0.00500000000000000 26 220 118 102\n",
      "0.00100000000000000 8 44 21 23\n",
      "0.000500000000000000 1 20 9 11\n",
      "0.000100000000000000 0 6 2 4\n"
     ]
    }
   ],
   "source": [
    "for [limit, [a,b,c,d]] in detect_rounding(\"matrices6x6-12000instances.json\").items():\n",
    "    print(\"success: {}  fail: {} for limit = {}\".format(a,b, limit.n(digits=1)))\n",
    "    print(\"successful rounding ratio: \", 100 *a/(a + b).n(digits=3), \" % out of all nearly integers\")\n",
    "    print()\n",
    "    \n",
    "for [limit, [a,b,c,d]] in detect_rounding(\"matrices6x6-12000instances.json\").items():\n",
    "    print(limit, a, b,c,d)"
   ]
  },
  {
   "cell_type": "markdown",
   "id": "77dd9d06-18ea-439b-8943-d909166d2b5a",
   "metadata": {},
   "source": [
    "In most cases, the success rate is about 10-15 \\%, which is quite surprising. I thought that as the limit gets lower, fewer cases would success and the success rate would decrease. "
   ]
  },
  {
   "cell_type": "markdown",
   "id": "8ac73bb1-5c7b-40ce-9ba2-2637631b5362",
   "metadata": {},
   "source": [
    "## Not wall, at least direction?\n",
    "\n",
    "\n",
    "So now, we've "
   ]
  }
 ],
 "metadata": {
  "kernelspec": {
   "display_name": "SageMath 9.0",
   "language": "sage",
   "name": "sagemath"
  },
  "language_info": {
   "codemirror_mode": {
    "name": "ipython",
    "version": 3
   },
   "file_extension": ".py",
   "mimetype": "text/x-python",
   "name": "python",
   "nbconvert_exporter": "python",
   "pygments_lexer": "ipython3",
   "version": "3.8.10"
  }
 },
 "nbformat": 4,
 "nbformat_minor": 5
}
