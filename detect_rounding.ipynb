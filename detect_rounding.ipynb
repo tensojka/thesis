{
 "cells": [
  {
   "cell_type": "code",
   "execution_count": 1,
   "id": "def71539",
   "metadata": {},
   "outputs": [],
   "source": [
    "%run generate_new_examples.ipynb     # importing functions"
   ]
  },
  {
   "cell_type": "code",
   "execution_count": 71,
   "id": "4f76ae7a",
   "metadata": {},
   "outputs": [],
   "source": [
    "# jsonfilename = \"noname.json\"\n",
    "limits = [0.05, 0.005, 0.0010, 0.0005, 0.0001]"
   ]
  },
  {
   "cell_type": "markdown",
   "id": "3a4dab83",
   "metadata": {},
   "source": [
    "# Rounding detection\n",
    "\n",
    "This notebook's purpose is to test a following hypothesis: given a \"cube\" defined by real-valued coordinates from the cube algorithm, assume a roundin of these coordinates, which are in some sense *almost* a whole number. We test, whether this rounding gives us the desired coordinate of the linear combination given by the LLL. \n",
    "\n",
    "Note: this may not work always, as sometimes the skip is greater than 1."
   ]
  },
  {
   "cell_type": "code",
   "execution_count": 57,
   "id": "b7a8202d",
   "metadata": {},
   "outputs": [],
   "source": [
    "def detect_rounding(jsonfilename):\n",
    "    cases = from_json(jsonfilename)\n",
    "    stats = {}\n",
    "    for limit in limits:\n",
    "        stats[limit] = [0, 0] \n",
    "    for case in cases:\n",
    "        for i in range(len(case[\"lincomb_cube\"])):\n",
    "            \n",
    "            #skip equal components\n",
    "            if case[\"lincomb_diff\"][i] == 0:\n",
    "                continue\n",
    "                \n",
    "            for limit in limits:\n",
    "                num_cube = case[\"lincomb_cube\"][i]\n",
    "                num_LLL = case[\"lincomb_LLL\"][i]\n",
    "                if ceil(num_cube, limit) or floor(num_cube, limit): # if its almost an int\n",
    "                    if round(num_cube) == num_LLL:\n",
    "                        stats[limit] = increment(stats, limit, 0)\n",
    "                    else: \n",
    "                        stats[limit] = increment(stats, limit, 1)\n",
    "    return stats\n",
    "\n",
    "def ceil(num_cube, limit):\n",
    "    # if the decimal part is almost the next integer\n",
    "    # print(num_cube, 1 - abs(num_cube % 1))\n",
    "    return  1 - abs(num_cube % 1) < limit \n",
    "\n",
    "def floor(num_cube, limit):\n",
    "    # print(num_cube, abs(num_cube % 1))\n",
    "    return abs(num_cube % 1) < limit\n",
    "\n",
    "def increment(dic, limit, ind):\n",
    "    if ind == 0:\n",
    "        return [dic.get(limit,0)[0] + 1, dic.get(limit,0)[1]] \n",
    "    return [dic.get(limit,0)[0], dic.get(limit,0)[1] + 1]"
   ]
  },
  {
   "cell_type": "code",
   "execution_count": 73,
   "id": "1c5d1bd1",
   "metadata": {
    "scrolled": true
   },
   "outputs": [
    {
     "name": "stdout",
     "output_type": "stream",
     "text": [
      "success: 338    fail: 2430 for limit = 0.0500000000000000\n",
      "successful rounding ratio:  12.2  % out of all nearly integers\n",
      "\n",
      "success: 26    fail: 220 for limit = 0.00500000000000000\n",
      "successful rounding ratio:  10.6  % out of all nearly integers\n",
      "\n",
      "success: 8    fail: 44 for limit = 0.00100000000000000\n",
      "successful rounding ratio:  15.4  % out of all nearly integers\n",
      "\n",
      "success: 1    fail: 20 for limit = 0.000500000000000000\n",
      "successful rounding ratio:  4.76  % out of all nearly integers\n",
      "\n",
      "success: 0    fail: 6 for limit = 0.000100000000000000\n",
      "successful rounding ratio:  0.000  % out of all nearly integers\n",
      "\n"
     ]
    }
   ],
   "source": [
    "for [k, [a,b]] in detect_rounding(\"matrices6x6-12000instances.json\").items():\n",
    "    print(\"success: {}    fail: {} for limit = {}\".format(a,b, k))\n",
    "    print(\"successful rounding ratio: \", 100 *a/(a + b).n(digits=3), \" % out of all nearly integers\")\n",
    "    print()"
   ]
  },
  {
   "cell_type": "code",
   "execution_count": null,
   "id": "c26a7550",
   "metadata": {},
   "outputs": [],
   "source": []
  },
  {
   "cell_type": "code",
   "execution_count": null,
   "id": "eaf68830",
   "metadata": {},
   "outputs": [],
   "source": []
  }
 ],
 "metadata": {
  "kernelspec": {
   "display_name": "SageMath 9.0",
   "language": "sage",
   "name": "sagemath"
  },
  "language_info": {
   "codemirror_mode": {
    "name": "ipython",
    "version": 3
   },
   "file_extension": ".py",
   "mimetype": "text/x-python",
   "name": "python",
   "nbconvert_exporter": "python",
   "pygments_lexer": "ipython3",
   "version": "3.8.10"
  }
 },
 "nbformat": 4,
 "nbformat_minor": 5
}
