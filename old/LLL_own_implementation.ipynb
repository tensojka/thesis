{
 "cells": [
  {
   "cell_type": "code",
   "execution_count": 1,
   "metadata": {},
   "outputs": [],
   "source": [
    "\n",
    "# returnes matrix mu and list of squared euclidean norms\n",
    "#   of the vectors in Gram-Schmidt orthogonalized basis\n",
    "#   (Cholesky decomposition avoiding use of irrationals)\n",
    "# G ... Gram matrix to be decomposed\n",
    "def chol_decomp(G, cols=-1):\n",
    "    rows = G.nrows()\n",
    "    if cols < 0:\n",
    "        cols = rows\n",
    "    mu = matrix(QQ, rows, cols)\n",
    "    squares = vector(QQ, cols)\n",
    "    for y in range(rows):\n",
    "        over_cols = (y>=cols)\n",
    "        for x in range(cols if over_cols else y):\n",
    "            t = 0\n",
    "            for i in range(x):\n",
    "                t += mu[y,i]*mu[x,i]*squares[i]\n",
    "            mu[y,x] = (G[y,x]-t)/squares[x]\n",
    "        if not over_cols:\n",
    "            t = 0\n",
    "            for i in range(y):\n",
    "                t += mu[y,i]*mu[y,i]*squares[i]\n",
    "            mu[y,y] = 1\n",
    "            squares[y] = G[y,y]-t\n",
    "    return (mu, squares)\n",
    "\n",
    "# auxiliary function: swaps i-th row with the previous one\n",
    "def swap_rows_in_mu(mu, B, i, n):\n",
    "    mu[i-1], mu[i] = mu[i], mu[i-1]\n",
    "    mu[i,i], mu[i-1,i] = 1, 0\n",
    "    r = mu[i-1,i-1]\n",
    "    mu[i-1,i-1] = 1\n",
    "    temp = B[i-1]*r**2 + B[i]\n",
    "    mu[i,i-1] = r*B[i-1]/temp\n",
    "    B[i] = B[i-1]*B[i]/temp\n",
    "    B[i-1] = temp\n",
    "    for j in range(i+1, n):\n",
    "        mu[j,i-1], mu[j,i] = mu[i,i-1]*mu[j,i-1]+mu[j,i]*(1-r*mu[i,i-1]), \\\n",
    "                           mu[j,i-1]-r*mu[j,i]\n",
    "\n",
    "# auxiliary function: the inner cycle of LLL\n",
    "def LLL_reduce_row(b, mu, i, h):\n",
    "    for j in range(h-1, -1, -1):\n",
    "        t = round(mu[i, j])\n",
    "        for k in range(j+1):\n",
    "            mu[i, k] -= t*mu[j, k]\n",
    "        b[i] -= t*b[j]\n",
    "\n",
    "# auxiliary function: LLL reduction algorithm\n",
    "# b ... integer basis (does'n have to be square matrix)\n",
    "# mu ... Gram-Schmidt mu matrix (doesn't have to be square matrix)\n",
    "# B ... squared norms of Gram-Schmidt orthogonalized vectors\n",
    "# n ... number of rows of b to be reduced (usually b.nrows())\n",
    "# h ... index of first row not to be swapped (only reduced)\n",
    "def LLL_aux(b, delta, mu, B, n, h):\n",
    "    i = 1\n",
    "    flag = True\n",
    "    while i < h:\n",
    "        if flag:\n",
    "            LLL_reduce_row(b, mu, i, i)\n",
    "        if i > 0 and (delta-mu[i,i-1]**2)*B[i-1] > B[i]:\n",
    "            b[i], b[i-1] = b[i-1], b[i]\n",
    "            swap_rows_in_mu(mu, B, i, n)\n",
    "            i -= 1\n",
    "            flag = False\n",
    "        else:\n",
    "            i += 1\n",
    "            flag = True\n",
    "    while i < n:  # performed only if n>h\n",
    "        LLL_reduce_row(b, mu, i, h)\n",
    "        i += 1\n",
    "    return b, mu, B\n",
    "\n",
    "# classical LLL algorithm\n",
    "# last row of b can be used as a target point in Babai's algorithm\n",
    "def LLL_own(b, delta=3/4, babai_bool=False):\n",
    "    mu, B = chol_decomp(b*b.transpose(), b.nrows()-babai_bool)\n",
    "    return LLL_aux(copy(b), delta, mu, B, b.nrows(), b.nrows()-babai_bool)[0]\n",
    "\n",
    "# LLL for triangular input basis\n",
    "def LLL_triangular_input(b, delta=3/4, babai_bool=False):\n",
    "    B = vector(QQ, [b[j,j]**2 for j in range(b.ncols())])\n",
    "    mu = matrix(QQ, b)\n",
    "    for j in range(mu.ncols()):\n",
    "        r = mu[j,j]\n",
    "        for i in range(j, mu.nrows()):\n",
    "            mu[i,j] /= r\n",
    "    return LLL_aux(copy(b), delta, mu, B, b.nrows(), b.nrows()-babai_bool)[0]\n"
   ]
  },
  {
   "cell_type": "code",
   "execution_count": 3,
   "metadata": {},
   "outputs": [
    {
     "data": {
      "text/plain": [
       "[ 40  -2   6 -25 -48 -17 -23  47  33  29]\n",
       "[  5  29 -44   3  -7  16  29  -3  15  11]\n",
       "[  6  16 -27  25 -11  13  17 -44  29  24]\n",
       "[ 10  34 -25  18 -30  20  -2 -24 -22  -2]\n",
       "[ 39  30  37  27  14 -50  33 -10  15  46]\n",
       "[ 32 -31  24 -28  26  38 -21  50  19   5]\n",
       "[-27  -8  22 -30  39 -13 -34   5  14 -14]\n",
       "[ -5 -18  -8 -49 -39 -12  34 -28   5   7]\n",
       "[-50   3 -37 -41 -29   9 -21 -23  28   6]\n",
       "[ 35  -8  -2  24 -10  19 -43 -42   8  31]"
      ]
     },
     "execution_count": 3,
     "metadata": {},
     "output_type": "execute_result"
    }
   ],
   "source": [
    "import random  # FIXME put import as, abych nebyla prase\n",
    "# define seed to fix the random matrix\n",
    "random.seed(1)\n",
    "\n",
    "# dimension, perimeter for input values\n",
    "n = 10\n",
    "perimeter = 50 \n",
    "\n",
    "list = [randint(-perimeter, perimeter) for _ in range(n*n)]\n",
    "\n",
    "# basis matrix of a lattice\n",
    "B = matrix(ZZ, n, n, list)\n",
    "B"
   ]
  },
  {
   "cell_type": "code",
   "execution_count": 15,
   "metadata": {},
   "outputs": [
    {
     "name": "stdout",
     "output_type": "stream",
     "text": [
      "[sqrt(3158), 14*sqrt(22), sqrt(4121), 5*sqrt(129), 2*sqrt(853), sqrt(2863), 2*sqrt(913), 22*sqrt(7), sqrt(5262), 3*sqrt(515)]\n"
     ]
    },
    {
     "data": {
      "text/plain": [
       "[  1 -13  17  22  -4  -3 -12 -41  14  13]\n",
       "[  5  29 -44   3  -7  16  29  -3  15  11]\n",
       "[  5   5  19  15 -23   4 -31 -21 -37 -13]\n",
       "[-17  26  -3 -12   9   7 -36 -19  -8 -16]\n",
       "[  2  -4  23 -12  31  14  31   9 -14  18]\n",
       "[ -8   2 -18  12  -2 -36  -8 -27  -3  15]\n",
       "[ 21   4 -16 -23  -9 -32  19 -12  20 -20]\n",
       "[ 34   5 -19   2  -6  22 -31  -1  -6  18]\n",
       "[  1  49  20 -33 -32   2   1  14  -5  11]\n",
       "[-26 -22   8 -26 -30  20  15 -16 -15  27]"
      ]
     },
     "execution_count": 15,
     "metadata": {},
     "output_type": "execute_result"
    }
   ],
   "source": [
    "B_own = LLL_own(B)\n",
    "norms = []\n",
    "for i in range(n):\n",
    "    # print(B_own[i], end=\"  \")\n",
    "    norms.append(B_own[i].norm())\n",
    "print(norms)\n",
    "    \n",
    "B_own"
   ]
  },
  {
   "cell_type": "code",
   "execution_count": 14,
   "metadata": {
    "scrolled": true
   },
   "outputs": [
    {
     "name": "stdout",
     "output_type": "stream",
     "text": [
      "[sqrt(2863), sqrt(3158), 2*sqrt(853), 5*sqrt(129), sqrt(4121), 2*sqrt(913), 22*sqrt(7), 14*sqrt(22), sqrt(5262), 3*sqrt(515)]\n"
     ]
    },
    {
     "data": {
      "text/plain": [
       "[ -8   2 -18  12  -2 -36  -8 -27  -3  15]\n",
       "[  1 -13  17  22  -4  -3 -12 -41  14  13]\n",
       "[  2  -4  23 -12  31  14  31   9 -14  18]\n",
       "[-17  26  -3 -12   9   7 -36 -19  -8 -16]\n",
       "[  5   5  19  15 -23   4 -31 -21 -37 -13]\n",
       "[ 21   4 -16 -23  -9 -32  19 -12  20 -20]\n",
       "[ 34   5 -19   2  -6  22 -31  -1  -6  18]\n",
       "[  5  29 -44   3  -7  16  29  -3  15  11]\n",
       "[  1  49  20 -33 -32   2   1  14  -5  11]\n",
       "[-26 -22   8 -26 -30  20  15 -16 -15  27]"
      ]
     },
     "execution_count": 14,
     "metadata": {},
     "output_type": "execute_result"
    }
   ],
   "source": [
    "B_local = B.LLL()\n",
    "norms_2 = []\n",
    "for i in range(n):\n",
    "    # print(B_local[i], end=\"  \")\n",
    "    norms_2.append(B_local[i].norm())\n",
    "print(norms_2)\n",
    "\n",
    "B_local\n",
    "    "
   ]
  },
  {
   "cell_type": "code",
   "execution_count": 22,
   "metadata": {},
   "outputs": [
    {
     "data": {
      "text/plain": [
       "50 x 50 dense matrix over Real Field with 53 bits of precision (use the '.str()' method to see the entries)"
      ]
     },
     "execution_count": 22,
     "metadata": {},
     "output_type": "execute_result"
    }
   ],
   "source": []
  }
 ],
 "metadata": {
  "kernelspec": {
   "display_name": "SageMath 9.0",
   "language": "sage",
   "name": "sagemath"
  },
  "language_info": {
   "codemirror_mode": {
    "name": "ipython",
    "version": 3
   },
   "file_extension": ".py",
   "mimetype": "text/x-python",
   "name": "python",
   "nbconvert_exporter": "python",
   "pygments_lexer": "ipython3",
   "version": "3.8.10"
  }
 },
 "nbformat": 4,
 "nbformat_minor": 2
}
