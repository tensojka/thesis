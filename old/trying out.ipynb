{
 "cells": [
  {
   "cell_type": "code",
   "execution_count": 6,
   "id": "ff748e38",
   "metadata": {},
   "outputs": [],
   "source": [
    "m = matrix([[1,2],[3,4]])"
   ]
  },
  {
   "cell_type": "code",
   "execution_count": 7,
   "id": "3655280f",
   "metadata": {},
   "outputs": [
    {
     "data": {
      "text/plain": [
       "Full MatrixSpace of 5 by 5 dense matrices over Integer Ring"
      ]
     },
     "execution_count": 7,
     "metadata": {},
     "output_type": "execute_result"
    }
   ],
   "source": [
    "MS = MatrixSpace(ZZ, 5,5);\n",
    "MS\n"
   ]
  },
  {
   "cell_type": "code",
   "execution_count": 34,
   "id": "e1f81203",
   "metadata": {},
   "outputs": [
    {
     "data": {
      "text/plain": [
       "[ -1  -1  25 -42   1]\n",
       "[ -1   1  -1  -1   8]\n",
       "[ -2   1  -2  -9  -2]\n",
       "[  1 -88  54  -2  -1]\n",
       "[  1  -2  -1  -1  -1]"
      ]
     },
     "execution_count": 34,
     "metadata": {},
     "output_type": "execute_result"
    }
   ],
   "source": [
    "M = MS.random_element(density=1)\n",
    "G = M*M.transpose()\n",
    "M"
   ]
  },
  {
   "cell_type": "code",
   "execution_count": 33,
   "id": "73e1ec62",
   "metadata": {},
   "outputs": [
    {
     "data": {
      "text/plain": [
       "[ 0  0  1  0  2]\n",
       "[ 0 -1 -1 -2  0]\n",
       "[ 1 -2  0  1  1]\n",
       "[ 1  0  2 -1 -1]\n",
       "[-3 -2  2  1 -1]"
      ]
     },
     "execution_count": 33,
     "metadata": {},
     "output_type": "execute_result"
    }
   ],
   "source": [
    "M.LLL()"
   ]
  },
  {
   "cell_type": "code",
   "execution_count": null,
   "id": "454dc26d",
   "metadata": {},
   "outputs": [],
   "source": []
  }
 ],
 "metadata": {
  "kernelspec": {
   "display_name": "SageMath 9.0",
   "language": "sage",
   "name": "sagemath"
  },
  "language_info": {
   "codemirror_mode": {
    "name": "ipython",
    "version": 3
   },
   "file_extension": ".py",
   "mimetype": "text/x-python",
   "name": "python",
   "nbconvert_exporter": "python",
   "pygments_lexer": "ipython3",
   "version": "3.8.10"
  }
 },
 "nbformat": 4,
 "nbformat_minor": 5
}
