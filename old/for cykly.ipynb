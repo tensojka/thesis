{
 "cells": [
  {
   "cell_type": "code",
   "execution_count": 32,
   "id": "4829766e",
   "metadata": {},
   "outputs": [
    {
     "ename": "ValueError",
     "evalue": "random matrix algorithm \"range(10, 19)\" is not recognized",
     "output_type": "error",
     "traceback": [
      "\u001b[0;31m---------------------------------------------------------------------------\u001b[0m",
      "\u001b[0;31mValueError\u001b[0m                                Traceback (most recent call last)",
      "Cell \u001b[0;32mIn [32], line 2\u001b[0m\n\u001b[1;32m      1\u001b[0m \u001b[38;5;28;01mfrom\u001b[39;00m \u001b[38;5;21;01msage\u001b[39;00m\u001b[38;5;21;01m.\u001b[39;00m\u001b[38;5;21;01mmisc\u001b[39;00m\u001b[38;5;21;01m.\u001b[39;00m\u001b[38;5;21;01mprandom\u001b[39;00m \u001b[38;5;28;01mimport\u001b[39;00m randrange\n\u001b[0;32m----> 2\u001b[0m A \u001b[38;5;241m=\u001b[39m \u001b[43mrandom_matrix\u001b[49m\u001b[43m(\u001b[49m\u001b[43mZZ\u001b[49m\u001b[43m,\u001b[49m\u001b[43mInteger\u001b[49m\u001b[43m(\u001b[49m\u001b[38;5;241;43m3\u001b[39;49m\u001b[43m)\u001b[49m\u001b[43m,\u001b[49m\u001b[43mInteger\u001b[49m\u001b[43m(\u001b[49m\u001b[38;5;241;43m3\u001b[39;49m\u001b[43m)\u001b[49m\u001b[43m,\u001b[49m\u001b[38;5;28;43mrange\u001b[39;49m\u001b[43m(\u001b[49m\u001b[43mInteger\u001b[49m\u001b[43m(\u001b[49m\u001b[38;5;241;43m10\u001b[39;49m\u001b[43m)\u001b[49m\u001b[43m,\u001b[49m\u001b[43mInteger\u001b[49m\u001b[43m(\u001b[49m\u001b[38;5;241;43m19\u001b[39;49m\u001b[43m)\u001b[49m\u001b[43m)\u001b[49m\u001b[43m)\u001b[49m\n\u001b[1;32m      3\u001b[0m A\n",
      "File \u001b[0;32m/usr/lib/python3/dist-packages/sage/matrix/special.py:620\u001b[0m, in \u001b[0;36mrandom_matrix\u001b[0;34m(ring, nrows, ncols, algorithm, implementation, *args, **kwds)\u001b[0m\n\u001b[1;32m    618\u001b[0m     \u001b[38;5;28;01mreturn\u001b[39;00m random_unimodular_matrix(parent, \u001b[38;5;241m*\u001b[39margs, \u001b[38;5;241m*\u001b[39m\u001b[38;5;241m*\u001b[39mkwds)\n\u001b[1;32m    619\u001b[0m \u001b[38;5;28;01melse\u001b[39;00m:\n\u001b[0;32m--> 620\u001b[0m     \u001b[38;5;28;01mraise\u001b[39;00m \u001b[38;5;167;01mValueError\u001b[39;00m(\u001b[38;5;124m'\u001b[39m\u001b[38;5;124mrandom matrix algorithm \u001b[39m\u001b[38;5;124m\"\u001b[39m\u001b[38;5;132;01m%s\u001b[39;00m\u001b[38;5;124m\"\u001b[39m\u001b[38;5;124m is not recognized\u001b[39m\u001b[38;5;124m'\u001b[39m \u001b[38;5;241m%\u001b[39m algorithm)\n",
      "\u001b[0;31mValueError\u001b[0m: random matrix algorithm \"range(10, 19)\" is not recognized"
     ]
    }
   ],
   "source": [
    "from sage.misc.prandom import randrange\n",
    "A = random_matrix(ZZ,3,3,range(10,19))\n",
    "A"
   ]
  },
  {
   "cell_type": "code",
   "execution_count": 23,
   "id": "941ba3b5",
   "metadata": {},
   "outputs": [
    {
     "ename": "AttributeError",
     "evalue": "'sage.matrix.matrix_generic_dense.Matrix_generic_dense' object has no attribute 'LLL'",
     "output_type": "error",
     "traceback": [
      "\u001b[0;31m---------------------------------------------------------------------------\u001b[0m",
      "\u001b[0;31mAttributeError\u001b[0m                            Traceback (most recent call last)",
      "Cell \u001b[0;32mIn [23], line 1\u001b[0m\n\u001b[0;32m----> 1\u001b[0m \u001b[43mA\u001b[49m\u001b[38;5;241;43m.\u001b[39;49m\u001b[43mLLL\u001b[49m()\n",
      "File \u001b[0;32m/usr/lib/python3/dist-packages/sage/structure/element.pyx:487\u001b[0m, in \u001b[0;36msage.structure.element.Element.__getattr__ (build/cythonized/sage/structure/element.c:4608)\u001b[0;34m()\u001b[0m\n\u001b[1;32m    485\u001b[0m         AttributeError: 'LeftZeroSemigroup_with_category.element_class' object has no attribute 'blah_blah'\n\u001b[1;32m    486\u001b[0m     \"\"\"\n\u001b[0;32m--> 487\u001b[0m     return self.getattr_from_category(name)\n\u001b[1;32m    488\u001b[0m \n\u001b[1;32m    489\u001b[0m cdef getattr_from_category(self, name):\n",
      "File \u001b[0;32m/usr/lib/python3/dist-packages/sage/structure/element.pyx:500\u001b[0m, in \u001b[0;36msage.structure.element.Element.getattr_from_category (build/cythonized/sage/structure/element.c:4717)\u001b[0;34m()\u001b[0m\n\u001b[1;32m    498\u001b[0m     else:\n\u001b[1;32m    499\u001b[0m         cls = P._abstract_element_class\n\u001b[0;32m--> 500\u001b[0m     return getattr_from_other_class(self, cls, name)\n\u001b[1;32m    501\u001b[0m \n\u001b[1;32m    502\u001b[0m def __dir__(self):\n",
      "File \u001b[0;32m/usr/lib/python3/dist-packages/sage/cpython/getattr.pyx:394\u001b[0m, in \u001b[0;36msage.cpython.getattr.getattr_from_other_class (build/cythonized/sage/cpython/getattr.c:2614)\u001b[0;34m()\u001b[0m\n\u001b[1;32m    392\u001b[0m     dummy_error_message.cls = type(self)\n\u001b[1;32m    393\u001b[0m     dummy_error_message.name = name\n\u001b[0;32m--> 394\u001b[0m     raise AttributeError(dummy_error_message)\n\u001b[1;32m    395\u001b[0m attribute = <object>attr\n\u001b[1;32m    396\u001b[0m # Check for a descriptor (__get__ in Python)\n",
      "\u001b[0;31mAttributeError\u001b[0m: 'sage.matrix.matrix_generic_dense.Matrix_generic_dense' object has no attribute 'LLL'"
     ]
    }
   ],
   "source": [
    "A.LLL()"
   ]
  },
  {
   "cell_type": "code",
   "execution_count": 24,
   "id": "ddb6378d",
   "metadata": {},
   "outputs": [
    {
     "data": {
      "text/plain": [
       "[  1  -5   1   2   4   1   1]\n",
       "[  3   1  13   3  -1   1  -4]\n",
       "[  1  40   1   5   6   1   8]\n",
       "[ -2  -1   1  -1   2   2  -1]\n",
       "[  1   1  -1 -11 -23   2  -1]\n",
       "[ -2   3  -2   1   1   3   2]\n",
       "[ -1  -1  -5  -1  39   2   1]"
      ]
     },
     "execution_count": 24,
     "metadata": {},
     "output_type": "execute_result"
    }
   ],
   "source": [
    "B = random_matrix(ZZ,7, density=1)\n",
    "B"
   ]
  },
  {
   "cell_type": "code",
   "execution_count": 1,
   "id": "8e3f412c",
   "metadata": {},
   "outputs": [
    {
     "name": "stdout",
     "output_type": "stream",
     "text": [
      "[   6   22   -5    4    1    1   32  -14  -74  -14]\n",
      "[   0    6    9  -20   -1    1  -18   26  106   20]\n",
      "[   9   36  -17   32    3    3   86  -67 -257  -57]\n",
      "[   0   10   31  -58   -3    1  -56   62  326   78]\n",
      "[  12   14  -28   28    8    6   70  -18 -210  -82]\n",
      "[  -9  -12  -40  112    4    6  108 -141 -549 -113]\n",
      "[   0    0   11  -24   -1   -1  -24   28  128   32]\n",
      "[   0    6    2   -4    0    0    2    4   10    6]\n",
      "[   0   -2    9  -20   -1    0  -24   27  116   23]\n",
      "[  -3   -2    2    4    0   -1   -2  -10   -9   12]\n"
     ]
    }
   ],
   "source": [
    "from scipy.stats import poisson\n",
    "# my way to get some random eigenvalues involves the above...\n",
    "# use an other way to generate diag, if this is too artificial \n",
    "\n",
    "N = 10\n",
    "# we will produce an NxN positive definite random matrix with integer eigenvalues\n",
    "\n",
    "diag = list( poisson.rvs( 7, size=N ) )\n",
    "diag = [ 1+d for d in diag ]    # all entries are now > 0\n",
    "evs  = list( set( diag ) )\n",
    "dims = [ diag.count( ev ) for ev in evs ]\n",
    "\n",
    "\n",
    "X = random_matrix( ZZ\n",
    "                   , N\n",
    "                   , algorithm  ='diagonalizable'\n",
    "                   , eigenvalues=evs\n",
    "                   , dimensions =dims )\n",
    "print(X)"
   ]
  },
  {
   "cell_type": "code",
   "execution_count": 131,
   "id": "51532869",
   "metadata": {},
   "outputs": [
    {
     "data": {
      "text/plain": [
       "[ 3  1  1  1  1 -2  1  1 -2 -2]\n",
       "[ 1 -3  3  1 -1  4 -1  1  0  2]\n",
       "[ 3 -2 -2  2 -1  2  2 -1 -4  3]\n",
       "[ 2  4  0  0  0  3  3 -3 -2  1]\n",
       "[ 3 -2  0  2  4  2 -2  2  2 -3]\n",
       "[-1 -2  0 -2  3  1  0  1 -4  5]\n",
       "[ 3  1 -3 -3 -3  3  0  0  0 -3]\n",
       "[-1  0  0  4  1  1 -2  1 -4 -3]\n",
       "[-2 -4  0  0  0 -3  3 -3 -4 -1]\n",
       "[-2 -3 -1 -3 -1  0  5  3  2 -1]"
      ]
     },
     "execution_count": 131,
     "metadata": {},
     "output_type": "execute_result"
    }
   ],
   "source": [
    "X.LLL(delta=0.95)"
   ]
  },
  {
   "cell_type": "code",
   "execution_count": 132,
   "id": "83967287",
   "metadata": {},
   "outputs": [
    {
     "data": {
      "text/plain": [
       "[ 10   0  10   0   0   0   0   0 -10  10]\n",
       "[ -3  -1  -3  -5   0   4   0   1 -14   7]\n",
       "[  0   0  -4  -4   3  -1   0  -1   8   0]\n",
       "[  4  -2   4   2   0   2   0   2  -2   0]\n",
       "[  0   0   4   4  -3   4   0   1  -2  12]\n",
       "[  4   3   1   3  -2  -3   1   0   2  -7]\n",
       "[  3   1   1   1   1  -2   1   1  -2  -2]\n",
       "[  2   2   4  -2  -1   4  -1   4  -4   9]\n",
       "[  0  -2   4  -2  -1   1   2   1  -8   8]\n",
       "[ -1  -2  -6  -6   1  -3  -2   3  -2  -1]"
      ]
     },
     "execution_count": 132,
     "metadata": {},
     "output_type": "execute_result"
    }
   ],
   "source": [
    "X.LLL(delta=0.26)"
   ]
  },
  {
   "cell_type": "code",
   "execution_count": 158,
   "id": "3d2ddea7",
   "metadata": {},
   "outputs": [
    {
     "data": {
      "text/plain": [
       "[ 1  2  3  4  5]\n",
       "[ 6  7  8  9 10]\n",
       "[11 12 13 14 15]\n",
       "[16 17 18 19 20]\n",
       "[21 22 23 24 25]"
      ]
     },
     "execution_count": 158,
     "metadata": {},
     "output_type": "execute_result"
    }
   ],
   "source": [
    "A_2 = Matrix(ZZ, 5, range(1,26))\n",
    "A_2"
   ]
  },
  {
   "cell_type": "code",
   "execution_count": 160,
   "id": "3681d1ac",
   "metadata": {},
   "outputs": [
    {
     "data": {
      "text/plain": [
       "[ 0  0  0  0  0]\n",
       "[ 0  0  0  0  0]\n",
       "[ 0  0  0  0  0]\n",
       "[ 4  3  2  1  0]\n",
       "[-3 -1  1  3  5]"
      ]
     },
     "execution_count": 160,
     "metadata": {},
     "output_type": "execute_result"
    }
   ],
   "source": [
    "A_2.BKZ(algorithm=\"fpLLL\")"
   ]
  },
  {
   "cell_type": "code",
   "execution_count": 159,
   "id": "23a4a914",
   "metadata": {},
   "outputs": [
    {
     "ename": "AttributeError",
     "evalue": "'sage.matrix.matrix_modn_dense_double.Matrix_modn_dense_double' object has no attribute 'BKZ'",
     "output_type": "error",
     "traceback": [
      "\u001b[0;31m---------------------------------------------------------------------------\u001b[0m",
      "\u001b[0;31mAttributeError\u001b[0m                            Traceback (most recent call last)",
      "Cell \u001b[0;32mIn [159], line 4\u001b[0m\n\u001b[1;32m      2\u001b[0m set_random_seed(Integer(\u001b[38;5;241m684355\u001b[39m))\n\u001b[1;32m      3\u001b[0m A \u001b[38;5;241m=\u001b[39m random_matrix(Zmod(q), Integer(\u001b[38;5;241m5\u001b[39m),Integer(\u001b[38;5;241m5\u001b[39m))\n\u001b[0;32m----> 4\u001b[0m \u001b[43mA\u001b[49m\u001b[38;5;241;43m.\u001b[39;49m\u001b[43mBKZ\u001b[49m(algorithm\u001b[38;5;241m=\u001b[39m\u001b[38;5;124m\"\u001b[39m\u001b[38;5;124mfpLLL\u001b[39m\u001b[38;5;124m\"\u001b[39m)\n",
      "File \u001b[0;32m/usr/lib/python3/dist-packages/sage/structure/element.pyx:487\u001b[0m, in \u001b[0;36msage.structure.element.Element.__getattr__ (build/cythonized/sage/structure/element.c:4608)\u001b[0;34m()\u001b[0m\n\u001b[1;32m    485\u001b[0m         AttributeError: 'LeftZeroSemigroup_with_category.element_class' object has no attribute 'blah_blah'\n\u001b[1;32m    486\u001b[0m     \"\"\"\n\u001b[0;32m--> 487\u001b[0m     return self.getattr_from_category(name)\n\u001b[1;32m    488\u001b[0m \n\u001b[1;32m    489\u001b[0m cdef getattr_from_category(self, name):\n",
      "File \u001b[0;32m/usr/lib/python3/dist-packages/sage/structure/element.pyx:500\u001b[0m, in \u001b[0;36msage.structure.element.Element.getattr_from_category (build/cythonized/sage/structure/element.c:4717)\u001b[0;34m()\u001b[0m\n\u001b[1;32m    498\u001b[0m     else:\n\u001b[1;32m    499\u001b[0m         cls = P._abstract_element_class\n\u001b[0;32m--> 500\u001b[0m     return getattr_from_other_class(self, cls, name)\n\u001b[1;32m    501\u001b[0m \n\u001b[1;32m    502\u001b[0m def __dir__(self):\n",
      "File \u001b[0;32m/usr/lib/python3/dist-packages/sage/cpython/getattr.pyx:394\u001b[0m, in \u001b[0;36msage.cpython.getattr.getattr_from_other_class (build/cythonized/sage/cpython/getattr.c:2614)\u001b[0;34m()\u001b[0m\n\u001b[1;32m    392\u001b[0m     dummy_error_message.cls = type(self)\n\u001b[1;32m    393\u001b[0m     dummy_error_message.name = name\n\u001b[0;32m--> 394\u001b[0m     raise AttributeError(dummy_error_message)\n\u001b[1;32m    395\u001b[0m attribute = <object>attr\n\u001b[1;32m    396\u001b[0m # Check for a descriptor (__get__ in Python)\n",
      "\u001b[0;31mAttributeError\u001b[0m: 'sage.matrix.matrix_modn_dense_double.Matrix_modn_dense_double' object has no attribute 'BKZ'"
     ]
    }
   ],
   "source": [
    "n, m, q = 10, 20, 1000\n",
    "set_random_seed(684355)\n",
    "A = random_matrix(Zmod(q), 5,5)\n",
    "A.BKZ()"
   ]
  }
 ],
 "metadata": {
  "kernelspec": {
   "display_name": "SageMath 9.0",
   "language": "sage",
   "name": "sagemath"
  },
  "language_info": {
   "codemirror_mode": {
    "name": "ipython",
    "version": 3
   },
   "file_extension": ".py",
   "mimetype": "text/x-python",
   "name": "python",
   "nbconvert_exporter": "python",
   "pygments_lexer": "ipython3",
   "version": "3.8.10"
  }
 },
 "nbformat": 4,
 "nbformat_minor": 5
}
