{
 "cells": [
  {
   "cell_type": "code",
   "execution_count": 1,
   "metadata": {},
   "outputs": [],
   "source": [
    "\n",
    "# returnes matrix mu and list of squared euclidean norms\n",
    "#   of the vectors in Gram-Schmidt orthogonalized basis\n",
    "#   (Cholesky decomposition avoiding use of irrationals)\n",
    "# G ... Gram matrix to be decomposed\n",
    "def chol_decomp(G, cols=-1):\n",
    "    rows = G.nrows()\n",
    "    if cols < 0:\n",
    "        cols = rows\n",
    "    mu = matrix(QQ, rows, cols)\n",
    "    squares = vector(QQ, cols)\n",
    "    for y in range(rows):\n",
    "        over_cols = (y>=cols)\n",
    "        for x in range(cols if over_cols else y):\n",
    "            t = 0\n",
    "            for i in range(x):\n",
    "                t += mu[y,i]*mu[x,i]*squares[i]\n",
    "            mu[y,x] = (G[y,x]-t)/squares[x]\n",
    "        if not over_cols:\n",
    "            t = 0\n",
    "            for i in range(y):\n",
    "                t += mu[y,i]*mu[y,i]*squares[i]\n",
    "            mu[y,y] = 1\n",
    "            squares[y] = G[y,y]-t\n",
    "    return (mu, squares)\n",
    "\n",
    "# auxiliary function: swaps i-th row with the previous one\n",
    "def swap_rows_in_mu(mu, B, i, n):\n",
    "    mu[i-1], mu[i] = mu[i], mu[i-1]\n",
    "    mu[i,i], mu[i-1,i] = 1, 0\n",
    "    r = mu[i-1,i-1]\n",
    "    mu[i-1,i-1] = 1\n",
    "    temp = B[i-1]*r**2 + B[i]\n",
    "    mu[i,i-1] = r*B[i-1]/temp\n",
    "    B[i] = B[i-1]*B[i]/temp\n",
    "    B[i-1] = temp\n",
    "    for j in range(i+1, n):\n",
    "        mu[j,i-1], mu[j,i] = mu[i,i-1]*mu[j,i-1]+mu[j,i]*(1-r*mu[i,i-1]), \\\n",
    "                           mu[j,i-1]-r*mu[j,i]\n",
    "\n",
    "# auxiliary function: the inner cycle of LLL\n",
    "def LLL_reduce_row(b, mu, i, h):\n",
    "    for j in range(h-1, -1, -1):\n",
    "        t = round(mu[i, j])\n",
    "        for k in range(j+1):\n",
    "            mu[i, k] -= t*mu[j, k]\n",
    "        b[i] -= t*b[j]\n",
    "\n",
    "# auxiliary function: LLL reduction algorithm\n",
    "# b ... integer basis (does'n have to be square matrix)\n",
    "# mu ... Gram-Schmidt mu matrix (doesn't have to be square matrix)\n",
    "# B ... squared norms of Gram-Schmidt orthogonalized vectors\n",
    "# n ... number of rows of b to be reduced (usually b.nrows())\n",
    "# h ... index of first row not to be swapped (only reduced)\n",
    "def LLL_aux(b, delta, mu, B, n, h):\n",
    "    i = 1\n",
    "    flag = True\n",
    "    while i < h:\n",
    "        if flag:\n",
    "            LLL_reduce_row(b, mu, i, i)\n",
    "        if i > 0 and (delta-mu[i,i-1]**2)*B[i-1] > B[i]:\n",
    "            b[i], b[i-1] = b[i-1], b[i]\n",
    "            swap_rows_in_mu(mu, B, i, n)\n",
    "            i -= 1\n",
    "            flag = False\n",
    "        else:\n",
    "            i += 1\n",
    "            flag = True\n",
    "    while i < n:  # performed only if n>h\n",
    "        LLL_reduce_row(b, mu, i, h)\n",
    "        i += 1\n",
    "    return b, mu, B\n",
    "\n",
    "# classical LLL algorithm\n",
    "# last row of b can be used as a target point in Babai's algorithm\n",
    "def LLL_own(b, delta=3/4, babai_bool=False):\n",
    "    mu, B = chol_decomp(b*b.transpose(), b.nrows()-babai_bool)\n",
    "    return LLL_aux(copy(b), delta, mu, B, b.nrows(), b.nrows()-babai_bool)[0]\n",
    "\n",
    "# LLL for triangular input basis\n",
    "def LLL_triangular_input(b, delta=3/4, babai_bool=False):\n",
    "    B = vector(QQ, [b[j,j]**2 for j in range(b.ncols())])\n",
    "    mu = matrix(QQ, b)\n",
    "    for j in range(mu.ncols()):\n",
    "        r = mu[j,j]\n",
    "        for i in range(j, mu.nrows()):\n",
    "            mu[i,j] /= r\n",
    "    return LLL_aux(copy(b), delta, mu, B, b.nrows(), b.nrows()-babai_bool)[0]\n"
   ]
  },
  {
   "cell_type": "code",
   "execution_count": 2,
   "metadata": {},
   "outputs": [
    {
     "data": {
      "text/plain": [
       "[ 44   2  27 -40  47]\n",
       "[-36  42  23 -17  27]\n",
       "[ 17 -48 -41  37  24]\n",
       "[ 23  11  17 -40 -44]\n",
       "[ 12 -17 -50 -18 -49]"
      ]
     },
     "execution_count": 2,
     "metadata": {},
     "output_type": "execute_result"
    }
   ],
   "source": [
    "import random  # FIXME put import as, abych nebyla prase\n",
    "# define seed to fix the random matrix\n",
    "random.seed(1)\n",
    "\n",
    "# dimension, perimeter for input values\n",
    "n = 5\n",
    "perimeter = 50 \n",
    "\n",
    "list = [randint(-perimeter, perimeter) for _ in range(n*n)]\n",
    "\n",
    "# basis matrix of a lattice\n",
    "B = matrix(ZZ, n, n, list)\n",
    "B"
   ]
  },
  {
   "cell_type": "code",
   "execution_count": 10,
   "metadata": {},
   "outputs": [
    {
     "data": {
      "text/plain": [
       "[    0     4  -243    -1    -4    -1    -1     0     0]\n",
       "[    2    -1     3     5    -2     0   126    -4     0]\n",
       "[   17     2    -1    -2     2     7    -1    -1     7]\n",
       "[   -1     1    -2     0    -3     0     1     3     1]\n",
       "[   -8    -1    -1     6    -1    -1    -9     0     1]\n",
       "[    0 -2089     9     1    14     0     2     1    -7]\n",
       "[    7     6     0     0    -1   443    -3     0    -1]\n",
       "[  -45   -43     1     1    -1   -19    -2     1    -2]\n",
       "[   -1     1   -13    -1   -40    -4     0     1    -2]"
      ]
     },
     "execution_count": 10,
     "metadata": {},
     "output_type": "execute_result"
    }
   ],
   "source": []
  },
  {
   "cell_type": "code",
   "execution_count": 9,
   "metadata": {},
   "outputs": [
    {
     "data": {
      "text/plain": [
       "[  748 -1009  -158    30   190  -104  -480   446   205]\n",
       "[  501   111   -16    26     4 -2151    -2     2   149]\n",
       "[  -15 -1338   276   -38    40   -15  2750  -560  -216]\n",
       "[ 1331  1936   209    63  -328  -393  -769  -785  1234]\n",
       "[ 1986  1199   323   199  -606   714   749  -150 -2277]\n",
       "[  203  1236 -1418   -54  1556  -496  2559  3431   990]\n",
       "[  506  -823  -721 -2669  2179  -653  -291 -1658 -2023]\n",
       "[ -274  -398   818 -2082 -3360   500 -1440  2131   296]\n",
       "[  296   200 -6262 -1154 -1250  -375  -639 -1271   647]"
      ]
     },
     "execution_count": 9,
     "metadata": {},
     "output_type": "execute_result"
    }
   ],
   "source": [
    "LLL_own(G)"
   ]
  },
  {
   "cell_type": "code",
   "execution_count": 21,
   "metadata": {},
   "outputs": [
    {
     "data": {
      "text/plain": [
       "50 x 50 dense matrix over Real Field with 53 bits of precision (use the '.str()' method to see the entries)"
      ]
     },
     "execution_count": 21,
     "metadata": {},
     "output_type": "execute_result"
    }
   ],
   "source": [
    "from sage.misc.prandom import randrange\n",
    "A = matrix(RR,50,50,[100*random() for _ in range(2500)])\n",
    "A"
   ]
  },
  {
   "cell_type": "code",
   "execution_count": 22,
   "metadata": {},
   "outputs": [
    {
     "data": {
      "text/plain": [
       "50 x 50 dense matrix over Real Field with 53 bits of precision (use the '.str()' method to see the entries)"
      ]
     },
     "execution_count": 22,
     "metadata": {},
     "output_type": "execute_result"
    }
   ],
   "source": [
    "LLL_own(A*A.transpose())"
   ]
  }
 ],
 "metadata": {
  "kernelspec": {
   "display_name": "SageMath 9.0",
   "language": "sage",
   "name": "sagemath"
  },
  "language_info": {
   "codemirror_mode": {
    "name": "ipython",
    "version": 3
   },
   "file_extension": ".py",
   "mimetype": "text/x-python",
   "name": "python",
   "nbconvert_exporter": "python",
   "pygments_lexer": "ipython3",
   "version": "3.8.10"
  }
 },
 "nbformat": 4,
 "nbformat_minor": 2
}
