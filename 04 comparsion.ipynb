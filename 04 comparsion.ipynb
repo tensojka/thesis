{
 "cells": [
  {
   "cell_type": "code",
   "execution_count": 9,
   "id": "2228db58",
   "metadata": {
    "slideshow": {
     "slide_type": "slide"
    }
   },
   "outputs": [],
   "source": [
    "dimension = 3\n",
    "perimeter = 10\n",
    "sensitivity = 1.5\n",
    "jsonfilename = \"myfile2.json\""
   ]
  },
  {
   "cell_type": "code",
   "execution_count": 54,
   "id": "4d82b33f",
   "metadata": {},
   "outputs": [
    {
     "name": "stdout",
     "output_type": "stream",
     "text": [
      "[  7  -5   8]\n",
      "[  8  -6   8]\n",
      "[-10   7 -10] :  B\n",
      "[ 138  150 -185]\n",
      "[ 150  164 -202]\n",
      "[-185 -202  249] :  G\n",
      "(1, 4, 4) :  The linear combination given by LLL\n",
      "(1.0000, 0.62500, 1.2500) :  The linear combination suggested by cube\n",
      "(0.00000, 3.3750, 2.7500) :  The difference\n",
      "(-1, -1, 0) :  Shortest vector given by LLL\n",
      "(-0.50000, 0.00000, 0.50000) :  Shortest vector given by cube\n",
      "\n",
      "[ 0  6 -2]\n",
      "[-1 -9  4]\n",
      "[ 2 -5  2] :  B\n",
      "[ 40 -62 -34]\n",
      "[-62  98  51]\n",
      "[-34  51  33] :  G\n",
      "(4, 2, 1) :  The linear combination given by LLL\n",
      "(2.2368, 0.89474, 1.0000) :  The linear combination suggested by cube\n",
      "(1.7632, 1.1053, 0.00000) :  The difference\n",
      "(0, 1, 2) :  Shortest vector given by LLL\n",
      "(1.1053, 0.36841, 1.1053) :  Shortest vector given by cube\n",
      "\n",
      "[ 8  6 -5]\n",
      "[ 9  9 -7]\n",
      "[-6 10 -8] :  B\n",
      "[125 161  52]\n",
      "[161 211  92]\n",
      "[ 52  92 200] :  G\n",
      "(10, -8, 1) :  The linear combination given by LLL\n",
      "(8.4581, -6.8899, 1.0000) :  The linear combination suggested by cube\n",
      "(1.5419, -1.1101, 0.00000) :  The difference\n",
      "(2, -2, -2) :  Shortest vector given by LLL\n",
      "(-0.34369, -1.2599, -2.0616) :  Shortest vector given by cube\n",
      "\n",
      "[  6  -6   4]\n",
      "[ 10  -9   6]\n",
      "[-10   4  -4] :  B\n",
      "[  88  138 -100]\n",
      "[ 138  217 -160]\n",
      "[-100 -160  132] :  G\n",
      "(-5, 4, 1) :  The linear combination given by LLL\n",
      "(-7.3077, 5.3846, 1.0000) :  The linear combination suggested by cube\n",
      "(2.3077, -1.3846, 0.00000) :  The difference\n",
      "(0, -2, 0) :  Shortest vector given by LLL\n",
      "(-0.000061035, -0.61536, -0.92310) :  Shortest vector given by cube\n",
      "\n",
      "Done\n"
     ]
    }
   ],
   "source": [
    "def main() -> None:\n",
    "    output_data = []\n",
    "    for iteration in range(10000):\n",
    "        B = randomMatrix(dimension, perimeter)\n",
    "        data = abnormality_check(B)\n",
    "        if data != None:\n",
    "            output_data.append(abnormality_check(B))\n",
    "    print_the_output(output_data)\n",
    "    into_json(format_data(output_data))\n",
    "\n",
    "\n",
    "def abnormality_check(B) -> dict:\n",
    "    B_red = B.LLL()\n",
    "    v_min = shortestVector(B_red)[1]\n",
    "    x = B.solve_left(v_min) # find linear combination corresponding to shortest vector found by LLL\n",
    "    G = gram_matrix(B)\n",
    "    for i in range(G.nrows()):\n",
    "        data = innerComparsion(dimension, perimeter, B, B_red, v_min, x, G,i) # terrible\n",
    "        if data != None:\n",
    "            return data\n",
    "    \n",
    "main()\n",
    "\n",
    "print(\"Done\")"
   ]
  },
  {
   "cell_type": "code",
   "execution_count": 41,
   "id": "da93b36f",
   "metadata": {},
   "outputs": [
    {
     "name": "stdout",
     "output_type": "stream",
     "text": [
      "[ -1   9   1]\n",
      "[ -1   6  -4]\n",
      "[  2 -10   8] :  B\n",
      "[ 83  51 -84]\n",
      "[ 51  53 -94]\n",
      "[-84 -94 168] :  G\n",
      "(1, -8, -4) :  The linear combination given by LLL\n",
      "(1.0000, -9.8824, -5.0294) :  The linear combination suggested by cube\n",
      "(0.00000, 1.8824, 1.0294) :  The difference\n",
      "(-1, 1, 1) :  Shortest vector given by LLL\n",
      "(-1.1765, 0.00000, 0.29413) :  Shortest vector given by cube\n",
      "1.2367 :  diff*B.norm\n",
      "1.7320 :  LLL.norm\n",
      "1.2127 :  cube.norm\n"
     ]
    }
   ],
   "source": [
    "mat = matrix([[ -1 ,  9,   1],\n",
    "           [ -1 ,  6 , -4],\n",
    "           [  2, -10,   8]])\n",
    "\n",
    "dictionary = abnormality_check(mat)\n",
    "for pair in dictionary.items():\n",
    "    print(pair[1], \": \", pair[0])\n"
   ]
  },
  {
   "cell_type": "markdown",
   "id": "66da9330",
   "metadata": {},
   "source": [
    "### batshit cool math"
   ]
  },
  {
   "cell_type": "code",
   "execution_count": 2,
   "id": "15788a4a",
   "metadata": {},
   "outputs": [],
   "source": [
    "def innerComparsion(dimension, perimeter, B, B_red, v_min, x, G,i) -> dict:\n",
    "    solutions = find_real_minimum(G, i, x[i])\n",
    "    for j in range(dimension - 1):  # zbytecny forcyklus???\n",
    "        difference = x[j] - solutions[j]\n",
    "        if difference > sensitivity: \n",
    "            if all([sol == 0 for sol in solutions]):\n",
    "                break  \n",
    "            return into_dict(B, G, x, solutions)\n",
    "        \n",
    "def find_real_minimum(G, i, x) -> vector:\n",
    "    matrixA = matrix(G.nrows() - 1, G.nrows() - 1, 0)\n",
    "    matrixB = matrix(G.nrows() - 1, 1, 0)\n",
    "    matrixA[0,0] = 1\n",
    "    a, b = 0, 0\n",
    "    for row in range(G.nrows()):\n",
    "        if row != i:\n",
    "            matrixA[a] = [G[row, j] for j in range(len(G[row])) if j != i]\n",
    "            matrixB[b] = sum([x * G[row,j] for j in range(len(G[row])) if j == i])\n",
    "            a += 1\n",
    "            b += 1\n",
    "    # insert indices\n",
    "    result = (matrixA.solve_right((-1)*matrixB)).list()\n",
    "    result.insert(i,x)\n",
    "    return vector(result).n(digits=5) \n",
    "\n"
   ]
  },
  {
   "cell_type": "markdown",
   "id": "4476b6fc",
   "metadata": {},
   "source": [
    "### output formatting"
   ]
  },
  {
   "cell_type": "code",
   "execution_count": 3,
   "id": "7bdeacaf",
   "metadata": {},
   "outputs": [],
   "source": [
    "import json\n",
    "\n",
    "def format_data(output_data):\n",
    "    for dic in output_data:\n",
    "        for key, value in dic.items():\n",
    "            if isinstance(value, sage.matrix.matrix_integer_dense.Matrix_integer_dense):\n",
    "                dic[key] = matrix_to_list(value)\n",
    "            else:\n",
    "            # FIXME here I assume that output_data consits only of matrices and one-line entries (vectors, free modules)\n",
    "                dic[key] = vector_to_list(value)\n",
    "    return output_data\n",
    "\n",
    "def into_json(output_data):\n",
    "    out_file = open(jsonfilename, \"w\") \n",
    "    json.dump(output_data, out_file) \n",
    "    out_file.close() \n",
    "\n",
    "\n",
    "def print_the_output(output_data) -> None:\n",
    "    for dict in output_data:\n",
    "        for pair in dict.items():\n",
    "            print(pair[1], \": \", pair[0])\n",
    "        print()"
   ]
  },
  {
   "cell_type": "markdown",
   "id": "b37f1c41",
   "metadata": {},
   "source": [
    "### uninteresting tools"
   ]
  },
  {
   "cell_type": "code",
   "execution_count": 53,
   "id": "9d981872",
   "metadata": {},
   "outputs": [],
   "source": [
    "from random import randint, seed\n",
    "\n",
    "\n",
    "def shortestVector(matrix): \n",
    "    \"\"\"\n",
    "    Returns the norm of the shortest vector and its index.\n",
    "    \"\"\"\n",
    "    return sorted([(matrix[idx].norm().n(), matrix[idx], idx) for idx in range(matrix.nrows())])[0]\n",
    "\n",
    "def randomMatrix(dimension, per) -> matrix:\n",
    "    list = [randint(-per, per) for _ in range(dimension**2)]\n",
    "    M = matrix(ZZ, dimension, dimension, list)\n",
    "    while M.rank() != dimension:\n",
    "        list = [randint(-per, per) for _ in range(dimension**2)]\n",
    "        M = matrix(ZZ, dimension, dimension, list)\n",
    "    return M\n",
    "\n",
    "def gram_matrix(matrix) -> matrix:\n",
    "    \"\"\"\n",
    "    Calculate Gram matrix of given matrix.\n",
    "    :param matrix: given matrix\n",
    "    :return: Gram matrix of matrix\n",
    "    \"\"\"\n",
    "    return matrix * matrix.transpose()\n",
    "\n",
    "def matrix_to_list(A) -> list:\n",
    "    return [[int(A.list()[row * A.ncols() + col]) for col in range(A.ncols())] for row in range(A.nrows())]\n",
    "\n",
    "def vector_to_list(vector) -> list:\n",
    "    return [float(num) for num in vector.list()]\n",
    "\n",
    "\n",
    "def into_dict(B, G, x, solutions) -> dict:\n",
    "    result = {}\n",
    "    result[\"B\"] = B\n",
    "    result[\"G\"] = G\n",
    "    result[\"The linear combination given by LLL\"] = x\n",
    "    result[\"The linear combination suggested by cube\"] = solutions\n",
    "    result[\"The difference\"] = x - vector(solutions)\n",
    "    result[\"Shortest vector given by LLL\"] = x*B\n",
    "    result[\"Shortest vector given by cube\"] = vector(solutions)*B\n",
    "#     result[\"LLL.norm\"] = vector(x*B).norm().n(digits=5)\n",
    "#     result[\"cube.norm\"] = (vector(solutions)*B).norm().n(digits=5)\n",
    "    return result"
   ]
  },
  {
   "cell_type": "code",
   "execution_count": null,
   "id": "fa757d97",
   "metadata": {},
   "outputs": [],
   "source": []
  }
 ],
 "metadata": {
  "kernelspec": {
   "display_name": "SageMath 9.0",
   "language": "sage",
   "name": "sagemath"
  },
  "language_info": {
   "codemirror_mode": {
    "name": "ipython",
    "version": 3
   },
   "file_extension": ".py",
   "mimetype": "text/x-python",
   "name": "python",
   "nbconvert_exporter": "python",
   "pygments_lexer": "ipython3",
   "version": "3.8.10"
  }
 },
 "nbformat": 4,
 "nbformat_minor": 5
}
