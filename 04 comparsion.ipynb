{
 "cells": [
  {
   "cell_type": "code",
   "execution_count": 82,
   "id": "2228db58",
   "metadata": {
    "slideshow": {
     "slide_type": "slide"
    }
   },
   "outputs": [],
   "source": [
    "dimension = 3\n",
    "perimeter = 25\n",
    "sensitivity = 1\n",
    "jsonfilename = \"matrices4x4ver01.json\""
   ]
  },
  {
   "cell_type": "code",
   "execution_count": 104,
   "id": "4d82b33f",
   "metadata": {},
   "outputs": [
    {
     "name": "stdout",
     "output_type": "stream",
     "text": [
      "<class 'sage.modules.free_module_element.FreeModuleElement_generic_dense'>\n",
      "<class 'sage.modules.free_module_element.FreeModuleElement_generic_dense'>\n",
      "[ -8   0  -3]\n",
      "[-12  23 -20]\n",
      "[ 21  -7  12] :  B\n",
      "[  73  156 -204]\n",
      "[ 156 1073 -653]\n",
      "[-204 -653  634] :  G\n",
      "(6, 1, 3) :  The linear combination given by LLL\n",
      "(7.3528, 1.0000, 3.3958) :  The linear combination suggested by cube\n",
      "(-1.3528, 0.00000, -0.39584) :  The difference\n",
      "(3, 2, -2) :  Shortest vector given by LLL\n",
      "(0.49060, -0.77090, -1.3082) :  Shortest vector given by cube\n",
      "[-14.64   -0.0  -1.61]\n",
      "[   0.0    0.0    0.0]\n",
      "[ 11.25    0.0   1.88] :  Diff impact analysis\n",
      "\n",
      "Done\n"
     ]
    }
   ],
   "source": [
    "def main() -> None:\n",
    "    output_data = []\n",
    "    for iteration in range(100):\n",
    "        B = randomMatrix(dimension, perimeter)\n",
    "        data = abnormality_check(B)\n",
    "        if data != None:\n",
    "            output_data.append(abnormality_check(B))\n",
    "    print_the_output(output_data)\n",
    "    into_json(format_data(output_data))\n",
    "\n",
    "\n",
    "def abnormality_check(B) -> dict:\n",
    "    B_red = B.LLL()\n",
    "    v_min = shortestVector(B_red)[1]\n",
    "    x = B.solve_left(v_min) # find linear combination corresponding to shortest vector found by LLL\n",
    "    G = gram_matrix(B)\n",
    "    for i in range(G.nrows()):\n",
    "        data = innerComparsion(dimension, perimeter, B, B_red, v_min, x, G,i) # terrible\n",
    "        if data != None:\n",
    "            return data\n",
    "main()\n",
    "\n",
    "print(\"Done\")"
   ]
  },
  {
   "cell_type": "code",
   "execution_count": 106,
   "id": "806d6542",
   "metadata": {},
   "outputs": [
    {
     "name": "stdout",
     "output_type": "stream",
     "text": [
      "[ -1   9   1]\n",
      "[ -1   6  -4]\n",
      "[  2 -10   8] :  B\n",
      "[ 83  51 -84]\n",
      "[ 51  53 -94]\n",
      "[-84 -94 168] :  G\n",
      "(1, -8, -4) :  The linear combination given by LLL\n",
      "(1.0000, -9.8824, -5.0294) :  The linear combination suggested by cube\n",
      "(0.00000, 1.8824, 1.0294) :  The difference\n",
      "(-1, 1, 1) :  Shortest vector given by LLL\n",
      "(-1.1765, 0.00000, 0.29413) :  Shortest vector given by cube\n",
      "[  -0.0    0.0    0.0]\n",
      "[  -0.0  21.26  -7.75]\n",
      "[   0.0 -19.38   8.48] :  Diff impact analysis\n"
     ]
    }
   ],
   "source": [
    "mat = matrix([[ -1 ,  9,   1],\n",
    "           [ -1 ,  6 , -4],\n",
    "           [  2, -10,   8]])\n",
    "\n",
    "dictionary = abnormality_check(mat)\n",
    "for pair in dictionary.items():\n",
    "    print(pair[1], \": \", pair[0])\n"
   ]
  },
  {
   "cell_type": "markdown",
   "id": "66da9330",
   "metadata": {},
   "source": [
    "### batshit cool math"
   ]
  },
  {
   "cell_type": "code",
   "execution_count": 102,
   "id": "15788a4a",
   "metadata": {},
   "outputs": [],
   "source": [
    "def innerComparsion(dimension, perimeter, B, B_red, v_min, x, G,i) -> dict:\n",
    "    solutions = find_real_minimum(G, i, x[i])\n",
    "    for j in range(dimension - 1):  # zbytecny forcyklus???\n",
    "        difference = x[j] - solutions[j]\n",
    "        if abs(difference) > sensitivity: \n",
    "            if all([sol == 0 for sol in solutions]):# FIME fuj\n",
    "                break  \n",
    "            return into_dict(B, G, x, solutions)\n",
    "        \n",
    "def find_real_minimum(G, i, x) -> vector:\n",
    "    matrixA = matrix(G.nrows() - 1, G.nrows() - 1, 0)\n",
    "    matrixB = matrix(G.nrows() - 1, 1, 0)\n",
    "    matrixA[0,0] = 1\n",
    "    a, b = 0, 0\n",
    "    for row in range(G.nrows()):\n",
    "        if row != i:\n",
    "            matrixA[a] = [G[row, j] for j in range(len(G[row])) if j != i]\n",
    "            matrixB[b] = sum([x * G[row,j] for j in range(len(G[row])) if j == i])\n",
    "            a += 1\n",
    "            b += 1\n",
    "    # insert indices\n",
    "    result = (matrixA.solve_right((-1)*matrixB)).list()\n",
    "    result.insert(i,x)\n",
    "    return vector(result).n(digits=5) \n",
    "\n",
    "\n",
    "def multiply_B_by_diff(B, diff) -> matrix:\n",
    "    B = matrix_to_list(B)\n",
    "    n = len(B)\n",
    "    diff = vector_to_list(diff)\n",
    "    for i in range(n):\n",
    "        for j in range(n):\n",
    "            B[i][j] = round(B[i][j]*  diff[i] * diff[j], 2)\n",
    "    return matrix(B)"
   ]
  },
  {
   "cell_type": "markdown",
   "id": "4476b6fc",
   "metadata": {},
   "source": [
    "### output formatting"
   ]
  },
  {
   "cell_type": "code",
   "execution_count": 10,
   "id": "7bdeacaf",
   "metadata": {},
   "outputs": [],
   "source": [
    "import json\n",
    "\n",
    "def format_data(output_data):\n",
    "    for dic in output_data:\n",
    "        for key, value in dic.items():\n",
    "            if isinstance(value, sage.matrix.matrix_integer_dense.Matrix_integer_dense):\n",
    "                dic[key] = matrix_to_list(value)\n",
    "            else:\n",
    "            # FIXME here I assume that output_data consits only of matrices and one-line entries (vectors, free modules)\n",
    "                dic[key] = vector_to_list(value)\n",
    "    return output_data\n",
    "\n",
    "def into_json(output_data):\n",
    "    out_file = open(jsonfilename, \"w+\") \n",
    "    json.dump(output_data, out_file) \n",
    "    out_file.close() \n",
    "\n",
    "\n",
    "def print_the_output(output_data) -> None:\n",
    "    for dict in output_data:\n",
    "        for pair in dict.items():\n",
    "            print(pair[1], \": \", pair[0])\n",
    "        print()"
   ]
  },
  {
   "cell_type": "markdown",
   "id": "b37f1c41",
   "metadata": {},
   "source": [
    "### uninteresting tools"
   ]
  },
  {
   "cell_type": "code",
   "execution_count": 105,
   "id": "9d981872",
   "metadata": {},
   "outputs": [],
   "source": [
    "from random import randint, seed\n",
    "\n",
    "\n",
    "def shortestVector(matrix): \n",
    "    \"\"\"\n",
    "    Returns the norm of the shortest vector and its index.\n",
    "    \"\"\"\n",
    "    return sorted([(matrix[idx].norm().n(), matrix[idx], idx) for idx in range(matrix.nrows())])[0]\n",
    "\n",
    "def randomMatrix(dimension, per) -> matrix:\n",
    "    list = [randint(-per, per) for _ in range(dimension**2)]\n",
    "    M = matrix(ZZ, dimension, dimension, list)\n",
    "    while M.rank() != dimension:\n",
    "        list = [randint(-per, per) for _ in range(dimension**2)]\n",
    "        M = matrix(ZZ, dimension, dimension, list)\n",
    "    return M\n",
    "\n",
    "def gram_matrix(matrix) -> matrix:\n",
    "    \"\"\"\n",
    "    Calculate Gram matrix of given matrix.\n",
    "    :param matrix: given matrix\n",
    "    :return: Gram matrix of matrix\n",
    "    \"\"\"\n",
    "    return matrix * matrix.transpose()\n",
    "\n",
    "def matrix_to_list(A) -> list:\n",
    "    return [[int(A.list()[row * A.ncols() + col]) for col in range(A.ncols())] for row in range(A.nrows())]\n",
    "\n",
    "def vector_to_list(vector) -> list:\n",
    "    return [float(num) for num in vector.list()]\n",
    "\n",
    "\n",
    "def into_dict(B, G, x, solutions) -> dict:\n",
    "    result = {}\n",
    "    result[\"B\"] = B\n",
    "    result[\"G\"] = G\n",
    "    result[\"The linear combination given by LLL\"] = x\n",
    "    result[\"The linear combination suggested by cube\"] = solutions\n",
    "    result[\"Shortest vector given by LLL\"] = x*B\n",
    "    result[\"Shortest vector given by cube\"] = vector(solutions)*B\n",
    "    result[\"The difference of lincombs\"] = x - vector(solutions)\n",
    "    result[\"Diff impact analysis\"] = multiply_B_by_diff(B, x - vector(solutions))\n",
    "#     result[\"LLL.norm\"] = vector(x*B).norm().n(digits=5)\n",
    "#     result[\"cube.norm\"] = (vector(solutions)*B).norm().n(digits=5)\n",
    "    return result"
   ]
  },
  {
   "cell_type": "code",
   "execution_count": null,
   "id": "12edb940",
   "metadata": {},
   "outputs": [],
   "source": []
  }
 ],
 "metadata": {
  "kernelspec": {
   "display_name": "SageMath 9.0",
   "language": "sage",
   "name": "sagemath"
  },
  "language_info": {
   "codemirror_mode": {
    "name": "ipython",
    "version": 3
   },
   "file_extension": ".py",
   "mimetype": "text/x-python",
   "name": "python",
   "nbconvert_exporter": "python",
   "pygments_lexer": "ipython3",
   "version": "3.8.10"
  }
 },
 "nbformat": 4,
 "nbformat_minor": 5
}
